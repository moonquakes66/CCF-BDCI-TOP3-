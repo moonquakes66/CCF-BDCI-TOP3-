{
 "cells": [
  {
   "cell_type": "code",
   "execution_count": 1,
   "id": "493bc6cb",
   "metadata": {
    "scrolled": true
   },
   "outputs": [
    {
     "name": "stderr",
     "output_type": "stream",
     "text": [
      "D:\\anacondahoul\\lib\\site-packages\\dask\\dataframe\\utils.py:15: FutureWarning: pandas.util.testing is deprecated. Use the functions in the public API at pandas.testing instead.\n",
      "  import pandas.util.testing as tm\n"
     ]
    }
   ],
   "source": [
    "import pandas as pd\n",
    "import numpy as np\n",
    "import os\n",
    "import gc\n",
    "from tqdm import *\n",
    "# 核心模型使用第三方库\n",
    "import lightgbm as lgb\n",
    "# 交叉验证所使用的第三方库\n",
    "from sklearn.model_selection import StratifiedKFold, KFold\n",
    "# 评估指标所使用的的第三方库\n",
    "from sklearn.metrics import accuracy_score, f1_score, roc_auc_score, log_loss\n",
    "from sklearn.metrics import roc_auc_score as auc\n",
    "from sklearn.metrics import mean_squared_error as mse\n",
    "\n",
    "from sklearn.metrics import r2_score\n",
    "from sklearn.metrics import mean_absolute_error as mae\n",
    "from sklearn.metrics import mean_absolute_percentage_error as mape\n",
    "import copy\n",
    "import datetime\n",
    "from chinese_calendar import is_workday\n",
    "from numpy import nan\n",
    "# 忽略报警所使用的第三方库\n",
    "import pandas.util.testing as tm\n",
    "import warnings\n",
    "warnings.filterwarnings('ignore')\n"
   ]
  },
  {
   "cell_type": "code",
   "execution_count": 4,
   "id": "9cc1242d",
   "metadata": {},
   "outputs": [],
   "source": [
    "import seaborn as sns\n",
    "import matplotlib.pyplot as plt"
   ]
  },
  {
   "cell_type": "code",
   "execution_count": 5,
   "id": "b9841d38",
   "metadata": {},
   "outputs": [],
   "source": [
    "pd.set_option('display.max_columns', 1000)\n",
    "pd.set_option('display.max_row', 1000)"
   ]
  },
  {
   "cell_type": "code",
   "execution_count": 6,
   "id": "e6bb9925",
   "metadata": {
    "scrolled": true
   },
   "outputs": [],
   "source": [
    "train_data = pd.read_csv(\"D://数据挖掘竞赛//ccf//history//train.csv\")\n",
    "test_data = pd.read_csv(\"D://数据挖掘竞赛//ccf//history//evaluation_public.csv\")"
   ]
  },
  {
   "cell_type": "code",
   "execution_count": 7,
   "id": "473c802e",
   "metadata": {},
   "outputs": [],
   "source": [
    "train_data['istest'] = 0\n",
    "test_data['istest'] = 1"
   ]
  },
  {
   "cell_type": "code",
   "execution_count": 8,
   "id": "ab9e76a4",
   "metadata": {},
   "outputs": [],
   "source": [
    "data = pd.concat([train_data, test_data]).reset_index(drop=True)"
   ]
  },
  {
   "cell_type": "code",
   "execution_count": 9,
   "id": "15db0a7f",
   "metadata": {},
   "outputs": [],
   "source": [
    "data['id_by_me'] = pd.Series(range(len(data)))"
   ]
  },
  {
   "cell_type": "code",
   "execution_count": 10,
   "id": "ecc1d9a3",
   "metadata": {},
   "outputs": [],
   "source": [
    "del data['ip_type']"
   ]
  },
  {
   "cell_type": "markdown",
   "id": "02f1e6b4",
   "metadata": {},
   "source": [
    "# 特征工程"
   ]
  },
  {
   "cell_type": "markdown",
   "id": "6583b357",
   "metadata": {},
   "source": [
    "风险系数高的情况"
   ]
  },
  {
   "cell_type": "code",
   "execution_count": 11,
   "id": "3882f6f0",
   "metadata": {},
   "outputs": [],
   "source": [
    "data['is_forei/unknown'] = data['op_city'].apply(lambda x: 1 if x in['国外','未知'] else 0)"
   ]
  },
  {
   "cell_type": "code",
   "execution_count": 12,
   "id": "b841a4f6",
   "metadata": {},
   "outputs": [],
   "source": [
    "data['is_fail_code']=data['http_status_code'].apply(lambda x:0 if x==200 else 1)"
   ]
  },
  {
   "cell_type": "code",
   "execution_count": 13,
   "id": "11dafcf1",
   "metadata": {},
   "outputs": [],
   "source": [
    "data['is_code_5']=data['http_status_code'].apply(lambda x:1 if x in [500,502] else 0)"
   ]
  },
  {
   "cell_type": "code",
   "execution_count": 14,
   "id": "e54dcef5",
   "metadata": {},
   "outputs": [],
   "source": [
    "data['is_login_url'] = data['url'].apply(lambda x:1 if x in ['xxx.com/getVerifyCode','xxx.com/getLoginType'] else 0)"
   ]
  },
  {
   "cell_type": "code",
   "execution_count": null,
   "id": "2ee679fb",
   "metadata": {},
   "outputs": [],
   "source": []
  },
  {
   "cell_type": "markdown",
   "id": "4be2b597",
   "metadata": {},
   "source": [
    "对时间进行简单处理"
   ]
  },
  {
   "cell_type": "code",
   "execution_count": 15,
   "id": "84b29ac1",
   "metadata": {},
   "outputs": [],
   "source": [
    "data['op_datetime'] = pd.to_datetime(data['op_datetime'])\n",
    "data['day']=data['op_datetime'].astype(str).apply(lambda x:str(x)[5:10])\n",
    "data['hour'] = data['op_datetime'].dt.hour\n",
    "data['weekday'] = data['op_datetime'].dt.weekday+1\n",
    "\n",
    "data = data.sort_values(by=['user_name', 'op_datetime']).reset_index(drop=True)\n",
    "\n",
    "data['hour_sin'] = np.sin(data['hour']/24*2*np.pi)\n",
    "data['hour_cos'] = np.cos(data['hour']/24*2*np.pi)"
   ]
  },
  {
   "cell_type": "code",
   "execution_count": 16,
   "id": "45625e37",
   "metadata": {},
   "outputs": [],
   "source": [
    "data['op_day'] = data['op_datetime'].astype(str).apply(lambda x:str(x)[8:10])"
   ]
  },
  {
   "cell_type": "code",
   "execution_count": 17,
   "id": "a09c1b37",
   "metadata": {},
   "outputs": [],
   "source": [
    "data['min'] = data['op_datetime'].apply(lambda x: int(str(x)[-5:-3]))\n",
    "data['min_sin'] = np.sin(data['min']/60*2*np.pi)\n",
    "data['min_cos'] = np.cos(data['min']/60*2*np.pi)"
   ]
  },
  {
   "cell_type": "code",
   "execution_count": 18,
   "id": "ae747bfa",
   "metadata": {},
   "outputs": [
    {
     "ename": "KeyboardInterrupt",
     "evalue": "",
     "output_type": "error",
     "traceback": [
      "\u001b[1;31m---------------------------------------------------------------------------\u001b[0m",
      "\u001b[1;31mKeyboardInterrupt\u001b[0m                         Traceback (most recent call last)",
      "\u001b[1;32mC:\\Users\\ZHAOYI~1\\AppData\\Local\\Temp/ipykernel_46300/4161036962.py\u001b[0m in \u001b[0;36m<module>\u001b[1;34m\u001b[0m\n\u001b[0;32m      1\u001b[0m \u001b[1;31m#user上次点击时间差\u001b[0m\u001b[1;33m\u001b[0m\u001b[1;33m\u001b[0m\u001b[1;33m\u001b[0m\u001b[0m\n\u001b[0;32m      2\u001b[0m \u001b[0mdata\u001b[0m\u001b[1;33m[\u001b[0m\u001b[1;34m'diff_last_1'\u001b[0m\u001b[1;33m]\u001b[0m \u001b[1;33m=\u001b[0m \u001b[0mdata\u001b[0m\u001b[1;33m.\u001b[0m\u001b[0mgroupby\u001b[0m\u001b[1;33m(\u001b[0m\u001b[1;34m'user_name'\u001b[0m\u001b[1;33m)\u001b[0m\u001b[1;33m[\u001b[0m\u001b[1;34m'op_datetime'\u001b[0m\u001b[1;33m]\u001b[0m\u001b[1;33m.\u001b[0m\u001b[0mapply\u001b[0m\u001b[1;33m(\u001b[0m\u001b[1;32mlambda\u001b[0m \u001b[0mi\u001b[0m\u001b[1;33m:\u001b[0m\u001b[0mi\u001b[0m\u001b[1;33m.\u001b[0m\u001b[0mdiff\u001b[0m\u001b[1;33m(\u001b[0m\u001b[1;36m1\u001b[0m\u001b[1;33m)\u001b[0m\u001b[1;33m)\u001b[0m\u001b[1;33m.\u001b[0m\u001b[0mdt\u001b[0m\u001b[1;33m.\u001b[0m\u001b[0mtotal_seconds\u001b[0m\u001b[1;33m(\u001b[0m\u001b[1;33m)\u001b[0m\u001b[1;33m/\u001b[0m\u001b[1;36m60\u001b[0m\u001b[1;33m\u001b[0m\u001b[1;33m\u001b[0m\u001b[0m\n\u001b[1;32m----> 3\u001b[1;33m \u001b[0mdata\u001b[0m\u001b[1;33m[\u001b[0m\u001b[1;34m'diff_last_2'\u001b[0m\u001b[1;33m]\u001b[0m \u001b[1;33m=\u001b[0m \u001b[0mdata\u001b[0m\u001b[1;33m.\u001b[0m\u001b[0mgroupby\u001b[0m\u001b[1;33m(\u001b[0m\u001b[1;34m'user_name'\u001b[0m\u001b[1;33m)\u001b[0m\u001b[1;33m[\u001b[0m\u001b[1;34m'op_datetime'\u001b[0m\u001b[1;33m]\u001b[0m\u001b[1;33m.\u001b[0m\u001b[0mapply\u001b[0m\u001b[1;33m(\u001b[0m\u001b[1;32mlambda\u001b[0m \u001b[0mi\u001b[0m\u001b[1;33m:\u001b[0m\u001b[0mi\u001b[0m\u001b[1;33m.\u001b[0m\u001b[0mdiff\u001b[0m\u001b[1;33m(\u001b[0m\u001b[1;36m2\u001b[0m\u001b[1;33m)\u001b[0m\u001b[1;33m)\u001b[0m\u001b[1;33m.\u001b[0m\u001b[0mdt\u001b[0m\u001b[1;33m.\u001b[0m\u001b[0mtotal_seconds\u001b[0m\u001b[1;33m(\u001b[0m\u001b[1;33m)\u001b[0m\u001b[1;33m/\u001b[0m\u001b[1;36m60\u001b[0m\u001b[1;33m\u001b[0m\u001b[1;33m\u001b[0m\u001b[0m\n\u001b[0m",
      "\u001b[1;32mD:\\anacondahoul\\lib\\site-packages\\pandas\\core\\groupby\\generic.py\u001b[0m in \u001b[0;36mapply\u001b[1;34m(self, func, *args, **kwargs)\u001b[0m\n\u001b[0;32m    221\u001b[0m     )\n\u001b[0;32m    222\u001b[0m     \u001b[1;32mdef\u001b[0m \u001b[0mapply\u001b[0m\u001b[1;33m(\u001b[0m\u001b[0mself\u001b[0m\u001b[1;33m,\u001b[0m \u001b[0mfunc\u001b[0m\u001b[1;33m,\u001b[0m \u001b[1;33m*\u001b[0m\u001b[0margs\u001b[0m\u001b[1;33m,\u001b[0m \u001b[1;33m**\u001b[0m\u001b[0mkwargs\u001b[0m\u001b[1;33m)\u001b[0m\u001b[1;33m:\u001b[0m\u001b[1;33m\u001b[0m\u001b[1;33m\u001b[0m\u001b[0m\n\u001b[1;32m--> 223\u001b[1;33m         \u001b[1;32mreturn\u001b[0m \u001b[0msuper\u001b[0m\u001b[1;33m(\u001b[0m\u001b[1;33m)\u001b[0m\u001b[1;33m.\u001b[0m\u001b[0mapply\u001b[0m\u001b[1;33m(\u001b[0m\u001b[0mfunc\u001b[0m\u001b[1;33m,\u001b[0m \u001b[1;33m*\u001b[0m\u001b[0margs\u001b[0m\u001b[1;33m,\u001b[0m \u001b[1;33m**\u001b[0m\u001b[0mkwargs\u001b[0m\u001b[1;33m)\u001b[0m\u001b[1;33m\u001b[0m\u001b[1;33m\u001b[0m\u001b[0m\n\u001b[0m\u001b[0;32m    224\u001b[0m \u001b[1;33m\u001b[0m\u001b[0m\n\u001b[0;32m    225\u001b[0m     \u001b[1;33m@\u001b[0m\u001b[0mdoc\u001b[0m\u001b[1;33m(\u001b[0m\u001b[0m_agg_template\u001b[0m\u001b[1;33m,\u001b[0m \u001b[0mexamples\u001b[0m\u001b[1;33m=\u001b[0m\u001b[0m_agg_examples_doc\u001b[0m\u001b[1;33m,\u001b[0m \u001b[0mklass\u001b[0m\u001b[1;33m=\u001b[0m\u001b[1;34m\"Series\"\u001b[0m\u001b[1;33m)\u001b[0m\u001b[1;33m\u001b[0m\u001b[1;33m\u001b[0m\u001b[0m\n",
      "\u001b[1;32mD:\\anacondahoul\\lib\\site-packages\\pandas\\core\\groupby\\groupby.py\u001b[0m in \u001b[0;36mapply\u001b[1;34m(self, func, *args, **kwargs)\u001b[0m\n\u001b[0;32m   1273\u001b[0m         \u001b[1;32mwith\u001b[0m \u001b[0moption_context\u001b[0m\u001b[1;33m(\u001b[0m\u001b[1;34m\"mode.chained_assignment\"\u001b[0m\u001b[1;33m,\u001b[0m \u001b[1;32mNone\u001b[0m\u001b[1;33m)\u001b[0m\u001b[1;33m:\u001b[0m\u001b[1;33m\u001b[0m\u001b[1;33m\u001b[0m\u001b[0m\n\u001b[0;32m   1274\u001b[0m             \u001b[1;32mtry\u001b[0m\u001b[1;33m:\u001b[0m\u001b[1;33m\u001b[0m\u001b[1;33m\u001b[0m\u001b[0m\n\u001b[1;32m-> 1275\u001b[1;33m                 \u001b[0mresult\u001b[0m \u001b[1;33m=\u001b[0m \u001b[0mself\u001b[0m\u001b[1;33m.\u001b[0m\u001b[0m_python_apply_general\u001b[0m\u001b[1;33m(\u001b[0m\u001b[0mf\u001b[0m\u001b[1;33m,\u001b[0m \u001b[0mself\u001b[0m\u001b[1;33m.\u001b[0m\u001b[0m_selected_obj\u001b[0m\u001b[1;33m)\u001b[0m\u001b[1;33m\u001b[0m\u001b[1;33m\u001b[0m\u001b[0m\n\u001b[0m\u001b[0;32m   1276\u001b[0m             \u001b[1;32mexcept\u001b[0m \u001b[0mTypeError\u001b[0m\u001b[1;33m:\u001b[0m\u001b[1;33m\u001b[0m\u001b[1;33m\u001b[0m\u001b[0m\n\u001b[0;32m   1277\u001b[0m                 \u001b[1;31m# gh-20949\u001b[0m\u001b[1;33m\u001b[0m\u001b[1;33m\u001b[0m\u001b[1;33m\u001b[0m\u001b[0m\n",
      "\u001b[1;32mD:\\anacondahoul\\lib\\site-packages\\pandas\\core\\groupby\\groupby.py\u001b[0m in \u001b[0;36m_python_apply_general\u001b[1;34m(self, f, data)\u001b[0m\n\u001b[0;32m   1310\u001b[0m \u001b[1;33m\u001b[0m\u001b[0m\n\u001b[0;32m   1311\u001b[0m         return self._wrap_applied_output(\n\u001b[1;32m-> 1312\u001b[1;33m             \u001b[0mdata\u001b[0m\u001b[1;33m,\u001b[0m \u001b[0mkeys\u001b[0m\u001b[1;33m,\u001b[0m \u001b[0mvalues\u001b[0m\u001b[1;33m,\u001b[0m \u001b[0mnot_indexed_same\u001b[0m\u001b[1;33m=\u001b[0m\u001b[0mmutated\u001b[0m \u001b[1;32mor\u001b[0m \u001b[0mself\u001b[0m\u001b[1;33m.\u001b[0m\u001b[0mmutated\u001b[0m\u001b[1;33m\u001b[0m\u001b[1;33m\u001b[0m\u001b[0m\n\u001b[0m\u001b[0;32m   1313\u001b[0m         )\n\u001b[0;32m   1314\u001b[0m \u001b[1;33m\u001b[0m\u001b[0m\n",
      "\u001b[1;32mD:\\anacondahoul\\lib\\site-packages\\pandas\\core\\groupby\\generic.py\u001b[0m in \u001b[0;36m_wrap_applied_output\u001b[1;34m(self, data, keys, values, not_indexed_same)\u001b[0m\n\u001b[0;32m    470\u001b[0m             \u001b[1;32mreturn\u001b[0m \u001b[0mres_ser\u001b[0m\u001b[1;33m\u001b[0m\u001b[1;33m\u001b[0m\u001b[0m\n\u001b[0;32m    471\u001b[0m         \u001b[1;32melif\u001b[0m \u001b[0misinstance\u001b[0m\u001b[1;33m(\u001b[0m\u001b[0mvalues\u001b[0m\u001b[1;33m[\u001b[0m\u001b[1;36m0\u001b[0m\u001b[1;33m]\u001b[0m\u001b[1;33m,\u001b[0m \u001b[1;33m(\u001b[0m\u001b[0mSeries\u001b[0m\u001b[1;33m,\u001b[0m \u001b[0mDataFrame\u001b[0m\u001b[1;33m)\u001b[0m\u001b[1;33m)\u001b[0m\u001b[1;33m:\u001b[0m\u001b[1;33m\u001b[0m\u001b[1;33m\u001b[0m\u001b[0m\n\u001b[1;32m--> 472\u001b[1;33m             \u001b[1;32mreturn\u001b[0m \u001b[0mself\u001b[0m\u001b[1;33m.\u001b[0m\u001b[0m_concat_objects\u001b[0m\u001b[1;33m(\u001b[0m\u001b[0mkeys\u001b[0m\u001b[1;33m,\u001b[0m \u001b[0mvalues\u001b[0m\u001b[1;33m,\u001b[0m \u001b[0mnot_indexed_same\u001b[0m\u001b[1;33m=\u001b[0m\u001b[0mnot_indexed_same\u001b[0m\u001b[1;33m)\u001b[0m\u001b[1;33m\u001b[0m\u001b[1;33m\u001b[0m\u001b[0m\n\u001b[0m\u001b[0;32m    473\u001b[0m         \u001b[1;32melse\u001b[0m\u001b[1;33m:\u001b[0m\u001b[1;33m\u001b[0m\u001b[1;33m\u001b[0m\u001b[0m\n\u001b[0;32m    474\u001b[0m             \u001b[1;31m# GH #6265 #24880\u001b[0m\u001b[1;33m\u001b[0m\u001b[1;33m\u001b[0m\u001b[1;33m\u001b[0m\u001b[0m\n",
      "\u001b[1;32mD:\\anacondahoul\\lib\\site-packages\\pandas\\core\\groupby\\groupby.py\u001b[0m in \u001b[0;36m_concat_objects\u001b[1;34m(self, keys, values, not_indexed_same)\u001b[0m\n\u001b[0;32m   1016\u001b[0m             ax = (\n\u001b[0;32m   1017\u001b[0m                 \u001b[0mself\u001b[0m\u001b[1;33m.\u001b[0m\u001b[0mfilter\u001b[0m\u001b[1;33m(\u001b[0m\u001b[1;32mlambda\u001b[0m \u001b[0mx\u001b[0m\u001b[1;33m:\u001b[0m \u001b[1;32mTrue\u001b[0m\u001b[1;33m)\u001b[0m\u001b[1;33m.\u001b[0m\u001b[0maxes\u001b[0m\u001b[1;33m[\u001b[0m\u001b[0mself\u001b[0m\u001b[1;33m.\u001b[0m\u001b[0maxis\u001b[0m\u001b[1;33m]\u001b[0m\u001b[1;33m\u001b[0m\u001b[1;33m\u001b[0m\u001b[0m\n\u001b[1;32m-> 1018\u001b[1;33m                 \u001b[1;32mif\u001b[0m \u001b[0mself\u001b[0m\u001b[1;33m.\u001b[0m\u001b[0mdropna\u001b[0m\u001b[1;33m\u001b[0m\u001b[1;33m\u001b[0m\u001b[0m\n\u001b[0m\u001b[0;32m   1019\u001b[0m                 \u001b[1;32melse\u001b[0m \u001b[0mself\u001b[0m\u001b[1;33m.\u001b[0m\u001b[0m_selected_obj\u001b[0m\u001b[1;33m.\u001b[0m\u001b[0m_get_axis\u001b[0m\u001b[1;33m(\u001b[0m\u001b[0mself\u001b[0m\u001b[1;33m.\u001b[0m\u001b[0maxis\u001b[0m\u001b[1;33m)\u001b[0m\u001b[1;33m\u001b[0m\u001b[1;33m\u001b[0m\u001b[0m\n\u001b[0;32m   1020\u001b[0m             )\n",
      "\u001b[1;32mD:\\anacondahoul\\lib\\site-packages\\pandas\\core\\groupby\\generic.py\u001b[0m in \u001b[0;36mfilter\u001b[1;34m(self, func, dropna, *args, **kwargs)\u001b[0m\n\u001b[0;32m    617\u001b[0m             \u001b[1;32mraise\u001b[0m \u001b[0mTypeError\u001b[0m\u001b[1;33m(\u001b[0m\u001b[1;34m\"the filter must return a boolean result\"\u001b[0m\u001b[1;33m)\u001b[0m \u001b[1;32mfrom\u001b[0m \u001b[0merr\u001b[0m\u001b[1;33m\u001b[0m\u001b[1;33m\u001b[0m\u001b[0m\n\u001b[0;32m    618\u001b[0m \u001b[1;33m\u001b[0m\u001b[0m\n\u001b[1;32m--> 619\u001b[1;33m         \u001b[0mfiltered\u001b[0m \u001b[1;33m=\u001b[0m \u001b[0mself\u001b[0m\u001b[1;33m.\u001b[0m\u001b[0m_apply_filter\u001b[0m\u001b[1;33m(\u001b[0m\u001b[0mindices\u001b[0m\u001b[1;33m,\u001b[0m \u001b[0mdropna\u001b[0m\u001b[1;33m)\u001b[0m\u001b[1;33m\u001b[0m\u001b[1;33m\u001b[0m\u001b[0m\n\u001b[0m\u001b[0;32m    620\u001b[0m         \u001b[1;32mreturn\u001b[0m \u001b[0mfiltered\u001b[0m\u001b[1;33m\u001b[0m\u001b[1;33m\u001b[0m\u001b[0m\n\u001b[0;32m    621\u001b[0m \u001b[1;33m\u001b[0m\u001b[0m\n",
      "\u001b[1;32mD:\\anacondahoul\\lib\\site-packages\\pandas\\core\\groupby\\groupby.py\u001b[0m in \u001b[0;36m_apply_filter\u001b[1;34m(self, indices, dropna)\u001b[0m\n\u001b[0;32m   1478\u001b[0m             \u001b[0mindices\u001b[0m \u001b[1;33m=\u001b[0m \u001b[0mnp\u001b[0m\u001b[1;33m.\u001b[0m\u001b[0marray\u001b[0m\u001b[1;33m(\u001b[0m\u001b[1;33m[\u001b[0m\u001b[1;33m]\u001b[0m\u001b[1;33m,\u001b[0m \u001b[0mdtype\u001b[0m\u001b[1;33m=\u001b[0m\u001b[1;34m\"int64\"\u001b[0m\u001b[1;33m)\u001b[0m\u001b[1;33m\u001b[0m\u001b[1;33m\u001b[0m\u001b[0m\n\u001b[0;32m   1479\u001b[0m         \u001b[1;32melse\u001b[0m\u001b[1;33m:\u001b[0m\u001b[1;33m\u001b[0m\u001b[1;33m\u001b[0m\u001b[0m\n\u001b[1;32m-> 1480\u001b[1;33m             \u001b[0mindices\u001b[0m \u001b[1;33m=\u001b[0m \u001b[0mnp\u001b[0m\u001b[1;33m.\u001b[0m\u001b[0msort\u001b[0m\u001b[1;33m(\u001b[0m\u001b[0mnp\u001b[0m\u001b[1;33m.\u001b[0m\u001b[0mconcatenate\u001b[0m\u001b[1;33m(\u001b[0m\u001b[0mindices\u001b[0m\u001b[1;33m)\u001b[0m\u001b[1;33m)\u001b[0m\u001b[1;33m\u001b[0m\u001b[1;33m\u001b[0m\u001b[0m\n\u001b[0m\u001b[0;32m   1481\u001b[0m         \u001b[1;32mif\u001b[0m \u001b[0mdropna\u001b[0m\u001b[1;33m:\u001b[0m\u001b[1;33m\u001b[0m\u001b[1;33m\u001b[0m\u001b[0m\n\u001b[0;32m   1482\u001b[0m             \u001b[0mfiltered\u001b[0m \u001b[1;33m=\u001b[0m \u001b[0mself\u001b[0m\u001b[1;33m.\u001b[0m\u001b[0m_selected_obj\u001b[0m\u001b[1;33m.\u001b[0m\u001b[0mtake\u001b[0m\u001b[1;33m(\u001b[0m\u001b[0mindices\u001b[0m\u001b[1;33m,\u001b[0m \u001b[0maxis\u001b[0m\u001b[1;33m=\u001b[0m\u001b[0mself\u001b[0m\u001b[1;33m.\u001b[0m\u001b[0maxis\u001b[0m\u001b[1;33m)\u001b[0m\u001b[1;33m\u001b[0m\u001b[1;33m\u001b[0m\u001b[0m\n",
      "\u001b[1;32m<__array_function__ internals>\u001b[0m in \u001b[0;36mconcatenate\u001b[1;34m(*args, **kwargs)\u001b[0m\n",
      "\u001b[1;31mKeyboardInterrupt\u001b[0m: "
     ]
    }
   ],
   "source": [
    "#user上次点击时间差\n",
    "data['diff_last_1'] = data.groupby('user_name')['op_datetime'].apply(lambda i:i.diff(1)).dt.total_seconds()/60\n",
    "data['diff_last_2'] = data.groupby('user_name')['op_datetime'].apply(lambda i:i.diff(2)).dt.total_seconds()/60"
   ]
  },
  {
   "cell_type": "code",
   "execution_count": null,
   "id": "6f652043",
   "metadata": {},
   "outputs": [],
   "source": [
    "train_data = data[data['istest']==0]\n",
    "test = data[data['istest']==1]"
   ]
  },
  {
   "cell_type": "code",
   "execution_count": null,
   "id": "3b22e855",
   "metadata": {},
   "outputs": [],
   "source": [
    "#train：\n",
    "train_data['diff_next'] = -(train_data.groupby('user_name')['op_datetime'].apply(lambda i:i.diff(-1))).dt.total_seconds()/60\n",
    "data=pd.merge(data,train_data[['diff_next','id_by_me']],how='left', on='id_by_me')"
   ]
  },
  {
   "cell_type": "code",
   "execution_count": null,
   "id": "201fe043",
   "metadata": {},
   "outputs": [],
   "source": [
    "fea = ['user_name', 'department', 'ip_transform', 'device_num_transform', 'browser_version', 'browser',\n",
    "          'os_type', 'os_version',  'op_city', 'log_system_transform', 'url']"
   ]
  },
  {
   "cell_type": "code",
   "execution_count": null,
   "id": "14f3dcb1",
   "metadata": {},
   "outputs": [],
   "source": [
    "for col in fea:\n",
    "    data[col+'_diff1_mean'] = data.groupby(col)['diff_last_1'].transform('mean')\n",
    "    data[col+'_diff1_std'] = data.groupby(col)['diff_last_1'].transform('std')\n",
    "    data[col+'_diff1_max'] = data.groupby(col)['diff_last_1'].transform('max')\n",
    "    data[col+'_diff1_min'] = data.groupby(col)['diff_last_1'].transform('min')"
   ]
  },
  {
   "cell_type": "code",
   "execution_count": null,
   "id": "38602e4e",
   "metadata": {},
   "outputs": [],
   "source": [
    "for col in fea:\n",
    "    data[col+'_diff_next_mean'] = data.groupby(col)['diff_next'].transform('mean')\n",
    "    data[col+'_diff_next_std'] = data.groupby(col)['diff_next'].transform('std')\n",
    "    data[col+'_diff_next_max'] = data.groupby(col)['diff_next'].transform('max')\n",
    "    data[col+'_diff_next_min'] = data.groupby(col)['diff_next'].transform('min')"
   ]
  },
  {
   "cell_type": "code",
   "execution_count": null,
   "id": "afc72bee",
   "metadata": {},
   "outputs": [],
   "source": [
    "#data.drop(['browser_version_diff1_min','browser_diff1_min','os_type_diff1_min','os_version_diff1_min'],axis=1,inplace=True)"
   ]
  },
  {
   "cell_type": "code",
   "execution_count": null,
   "id": "fb7a459b",
   "metadata": {},
   "outputs": [],
   "source": [
    "data=data.fillna(-999)"
   ]
  },
  {
   "cell_type": "markdown",
   "id": "c9b52f69",
   "metadata": {},
   "source": [
    "特殊时间标记"
   ]
  },
  {
   "cell_type": "code",
   "execution_count": null,
   "id": "73fff516",
   "metadata": {},
   "outputs": [],
   "source": [
    "def is_fail_code(x):\n",
    "    if x==200:\n",
    "        return 0\n",
    "    else:\n",
    "        return 1"
   ]
  },
  {
   "cell_type": "code",
   "execution_count": null,
   "id": "ea9cdf06",
   "metadata": {},
   "outputs": [],
   "source": [
    "#data['is_fail_code']=data['http_status_code'].apply(is_fail_code)"
   ]
  },
  {
   "cell_type": "code",
   "execution_count": null,
   "id": "4a01c080",
   "metadata": {},
   "outputs": [],
   "source": [
    "data['is_fail_usr']=data['user_name'].apply(lambda x:1 if x == \"-999\" else 0)#登陆失败"
   ]
  },
  {
   "cell_type": "code",
   "execution_count": null,
   "id": "75bf7bc5",
   "metadata": {},
   "outputs": [],
   "source": [
    "def isweekend(x):\n",
    "    if(x<6):\n",
    "        return 0\n",
    "    else:\n",
    "        return 1"
   ]
  },
  {
   "cell_type": "code",
   "execution_count": null,
   "id": "6e335b5d",
   "metadata": {},
   "outputs": [],
   "source": [
    "data['isweekend']=data['weekday'].apply(isweekend)"
   ]
  },
  {
   "cell_type": "code",
   "execution_count": null,
   "id": "7242927d",
   "metadata": {},
   "outputs": [],
   "source": [
    "def isnight(x):\n",
    "    if (x>7)and(x<20):\n",
    "        return 0\n",
    "    else:\n",
    "        return 1"
   ]
  },
  {
   "cell_type": "code",
   "execution_count": null,
   "id": "7ead0412",
   "metadata": {},
   "outputs": [],
   "source": [
    "data['isnight'] = data['hour'].apply(isnight)"
   ]
  },
  {
   "cell_type": "code",
   "execution_count": null,
   "id": "57d1e550",
   "metadata": {},
   "outputs": [],
   "source": [
    "for col in ['hour','weekday']:\n",
    "    plt.figure(figsize=(15,5))\n",
    "    sns.barplot(x=train_data[col],y = train_data['is_risk'])\n",
    "    plt.savefig(\"D:\\\\数据挖掘竞赛\\\\ccf\\\\image\\\\{}.png\".format(col),dpi=1000)"
   ]
  },
  {
   "cell_type": "code",
   "execution_count": null,
   "id": "67fd8ae9",
   "metadata": {},
   "outputs": [],
   "source": [
    "#节假日放假\n",
    "holiday = ['01-31','02-01', '02-02', '02-03', '02-04', '02-05', '02-06',\n",
    "           '04-03','04-04', '04-05', '05-01', '05-02', '05-03', '05-04',\n",
    "           '06-03', '06-04', '06-05']\n",
    "def if_holiday(x):\n",
    "    if x in holiday:\n",
    "        return 1\n",
    "    else:\n",
    "        return 0\n",
    "data['isholiday'] = data['op_datetime'].apply(lambda x:if_holiday(str(x)[5:10]))"
   ]
  },
  {
   "cell_type": "code",
   "execution_count": null,
   "id": "d1b41bbe",
   "metadata": {},
   "outputs": [],
   "source": [
    "train_data=data[data['istest']==0]"
   ]
  },
  {
   "cell_type": "code",
   "execution_count": null,
   "id": "ea3a90bc",
   "metadata": {
    "scrolled": true
   },
   "outputs": [],
   "source": [
    "for col in ['isholiday']:\n",
    "    plt.figure(figsize=(15,5))\n",
    "    sns.barplot(x=train_data[col],y = train_data['is_risk'])\n",
    "    plt.savefig(\"D:\\\\数据挖掘竞赛\\\\ccf\\\\image\\\\{}.png\".format(col),dpi=1000)"
   ]
  },
  {
   "cell_type": "code",
   "execution_count": null,
   "id": "d553e8a5",
   "metadata": {},
   "outputs": [],
   "source": [
    "#调休\n",
    "adjust = ['01-29', '01-30','04-02', '04-24','05-07']\n",
    "def if_adjust(x):\n",
    "    if x in adjust:\n",
    "        return 1\n",
    "    else:\n",
    "        return 0\n",
    "data['is_adjust'] = data['day'].apply(if_adjust)"
   ]
  },
  {
   "cell_type": "code",
   "execution_count": null,
   "id": "db60e57b",
   "metadata": {},
   "outputs": [],
   "source": [
    "data['is_not_work'] = data['isweekend'].astype(bool)&(~data['is_adjust'])|(data['isholiday'].astype(bool))"
   ]
  },
  {
   "cell_type": "markdown",
   "id": "6eacb3a4",
   "metadata": {},
   "source": [
    "将特殊时间点与用户登陆行为结合"
   ]
  },
  {
   "cell_type": "code",
   "execution_count": null,
   "id": "8debcb02",
   "metadata": {},
   "outputs": [],
   "source": [
    "time_fea=['hour','weekday','min','isnight','isholiday','is_not_work']"
   ]
  },
  {
   "cell_type": "code",
   "execution_count": null,
   "id": "b7504351",
   "metadata": {},
   "outputs": [],
   "source": [
    "for col in time_fea:\n",
    "    data[col+'_diff1_mean_u'] = data.groupby(['user_name',col])['diff_last_1'].transform('mean')\n",
    "    data[col+'_diff1_std_u'] = data.groupby(['user_name',col])['diff_last_1'].transform('std')"
   ]
  },
  {
   "cell_type": "code",
   "execution_count": null,
   "id": "2652dde9",
   "metadata": {},
   "outputs": [],
   "source": [
    "for col in time_fea:\n",
    "    data[col+'_diff1_next_mean_u'] = data.groupby(['user_name',col])['diff_next'].transform('mean')\n",
    "    data[col+'_diff1_next_std_u'] = data.groupby(['user_name',col])['diff_next'].transform('std')"
   ]
  },
  {
   "cell_type": "code",
   "execution_count": null,
   "id": "30354bdc",
   "metadata": {},
   "outputs": [],
   "source": [
    "del data['diff_next']"
   ]
  },
  {
   "cell_type": "code",
   "execution_count": null,
   "id": "6d8786df",
   "metadata": {},
   "outputs": [],
   "source": []
  },
  {
   "cell_type": "markdown",
   "id": "fa8b65c0",
   "metadata": {},
   "source": [
    "0点-当前usr使用某属性的次数"
   ]
  },
  {
   "cell_type": "code",
   "execution_count": null,
   "id": "c879a0e8",
   "metadata": {},
   "outputs": [],
   "source": [
    "cols = ['id_by_me','user_name','ip_transform', 'device_num_transform',\n",
    "       'browser_version', 'browser', 'os_type', 'os_version','http_status_code','op_city',\n",
    "        'log_system_transform','url','op_datetime']"
   ]
  },
  {
   "cell_type": "code",
   "execution_count": null,
   "id": "77ff7450",
   "metadata": {},
   "outputs": [],
   "source": [
    "tmp=data[cols]"
   ]
  },
  {
   "cell_type": "code",
   "execution_count": null,
   "id": "c7a487e3",
   "metadata": {},
   "outputs": [],
   "source": [
    "tmp['op_day'] = tmp['op_datetime'].dt.date"
   ]
  },
  {
   "cell_type": "code",
   "execution_count": null,
   "id": "9650f519",
   "metadata": {},
   "outputs": [],
   "source": [
    "tmp = tmp.groupby(['user_name','op_day'],as_index=False).agg({'id_by_me':list,'ip_transform':list, 'device_num_transform':list,\n",
    "       'browser_version':list, 'browser':list, 'os_type':list, 'os_version':list,'http_status_code':list,'op_city':list,\n",
    "        'log_system_transform':list,'url':list})"
   ]
  },
  {
   "cell_type": "code",
   "execution_count": null,
   "id": "4e25cd2e",
   "metadata": {},
   "outputs": [],
   "source": [
    "def get_which_time(col_unique,fea):\n",
    "    fea_dict = dict.fromkeys(col_unique,0)\n",
    "    count_list=[]\n",
    "    for i in range(len(fea)):\n",
    "        fea_dict[fea[i]] = fea_dict[fea[i]]+1\n",
    "        count_list.append(fea_dict[fea[i]])\n",
    "    return count_list"
   ]
  },
  {
   "cell_type": "code",
   "execution_count": null,
   "id": "c254a2e3",
   "metadata": {},
   "outputs": [],
   "source": [
    "for col in tqdm(['ip_transform', 'device_num_transform',\n",
    "       'browser_version', 'browser', 'os_type', 'os_version','http_status_code','op_city',\n",
    "        'log_system_transform','url']):\n",
    "    col_unique=data[col].unique()\n",
    "    tmp[col+'_countls'] = tmp[col].apply(lambda x:get_which_time(col_unique,x))"
   ]
  },
  {
   "cell_type": "code",
   "execution_count": null,
   "id": "8d1cc7ff",
   "metadata": {},
   "outputs": [],
   "source": [
    "tmp=tmp.explode(['id_by_me', 'ip_transform',\n",
    "       'device_num_transform', 'browser_version', 'browser', 'os_type',\n",
    "       'os_version', 'http_status_code', 'op_city', 'log_system_transform',\n",
    "       'url', 'ip_transform_countls',\n",
    "       'device_num_transform_countls', 'browser_version_countls',\n",
    "       'browser_countls', 'os_type_countls', 'os_version_countls',\n",
    "       'http_status_code_countls', 'op_city_countls',\n",
    "       'log_system_transform_countls', 'url_countls'])"
   ]
  },
  {
   "cell_type": "code",
   "execution_count": null,
   "id": "a3f4987e",
   "metadata": {},
   "outputs": [],
   "source": [
    "tmp = tmp.reset_index(drop=True)"
   ]
  },
  {
   "cell_type": "code",
   "execution_count": null,
   "id": "19e49cc4",
   "metadata": {},
   "outputs": [],
   "source": [
    "cols=['id_by_me','ip_transform_countls', 'device_num_transform_countls',\n",
    "       'browser_version_countls', 'browser_countls', 'os_type_countls',\n",
    "       'os_version_countls', 'http_status_code_countls', 'op_city_countls',\n",
    "       'log_system_transform_countls', 'url_countls']"
   ]
  },
  {
   "cell_type": "code",
   "execution_count": null,
   "id": "97d895a7",
   "metadata": {},
   "outputs": [],
   "source": [
    "data=pd.merge(data,tmp[cols],on='id_by_me',how='left')"
   ]
  },
  {
   "cell_type": "code",
   "execution_count": null,
   "id": "830cfd55",
   "metadata": {},
   "outputs": [],
   "source": [
    "for col in ['ip_transform_countls', 'device_num_transform_countls',\n",
    "       'browser_version_countls', 'browser_countls', 'os_type_countls',\n",
    "       'os_version_countls', 'http_status_code_countls', 'op_city_countls',\n",
    "       'log_system_transform_countls', 'url_countls']:\n",
    "    data[col] = data[col].astype(int)"
   ]
  },
  {
   "cell_type": "code",
   "execution_count": null,
   "id": "cbc78590",
   "metadata": {},
   "outputs": [],
   "source": [
    "train_data=data[data['istest']==0]"
   ]
  },
  {
   "cell_type": "code",
   "execution_count": null,
   "id": "19248483",
   "metadata": {},
   "outputs": [],
   "source": []
  },
  {
   "cell_type": "markdown",
   "id": "8b2be34a",
   "metadata": {},
   "source": [
    "账号最近一段时间登陆的ip种类"
   ]
  },
  {
   "cell_type": "code",
   "execution_count": null,
   "id": "bd1a9b8f",
   "metadata": {},
   "outputs": [],
   "source": [
    "cols = ['id_by_me','user_name','ip_transform', 'device_num_transform','browser_version', 'browser', 'os_type', \n",
    "                 'os_version','http_status_code','op_city','log_system_transform','url','op_datetime']\n",
    "tmp=data[cols]"
   ]
  },
  {
   "cell_type": "code",
   "execution_count": null,
   "id": "7ae12395",
   "metadata": {},
   "outputs": [],
   "source": [
    "#账号最近几次登陆\n",
    "for x in range(1,30):\n",
    "    tmp['usr_diff_last_'+str(x)] = tmp.groupby(['user_name'])['op_datetime'].apply(lambda i:i.diff(x)).dt.total_seconds()/60\n",
    "merge_cols = [col for col in tmp.columns if '_diff_last_' in col]\n",
    "tmp['ip_diff_list_30']=tmp[merge_cols].values.tolist()\n",
    "tmp.drop(merge_cols,axis=1,inplace=True)"
   ]
  },
  {
   "cell_type": "code",
   "execution_count": null,
   "id": "37714fa8",
   "metadata": {},
   "outputs": [],
   "source": [
    "#账号最近几次登陆对应ip\n",
    "for x in range(1,30):\n",
    "    tmp['usr_last_ip'+str(x)] = tmp.groupby(['user_name'])['ip_transform'].apply(lambda i:i.shift(x))\n",
    "merge_cols = [col for col in tmp.columns if '_last_' in col]\n",
    "tmp['usr_ip_list_30']=tmp[merge_cols].values.tolist()\n",
    "tmp.drop(merge_cols,axis=1,inplace=True)"
   ]
  },
  {
   "cell_type": "code",
   "execution_count": null,
   "id": "d3f57d1a",
   "metadata": {},
   "outputs": [],
   "source": [
    "def get_nunique_minute(diff_list,uni_list,minute):\n",
    "    ls=[]\n",
    "    for i in range(len(diff_list)):\n",
    "        if diff_list[i]<minute:\n",
    "            ls.append(uni_list[i])\n",
    "        else:\n",
    "            break\n",
    "    return pd.Series(ls).nunique()"
   ]
  },
  {
   "cell_type": "code",
   "execution_count": null,
   "id": "3a91c1d8",
   "metadata": {},
   "outputs": [],
   "source": [
    "tmp['ip_time_nui_6'] = tmp.apply(lambda row:get_nunique_minute(row['ip_diff_list_30'],row['usr_ip_list_30'],60*6),axis=1)"
   ]
  },
  {
   "cell_type": "code",
   "execution_count": null,
   "id": "1ed91727",
   "metadata": {},
   "outputs": [],
   "source": [
    "tmp['ip_time_nui_12'] = tmp.apply(lambda row:get_nunique_minute(row['ip_diff_list_30'],row['usr_ip_list_30'],60*12),axis=1)"
   ]
  },
  {
   "cell_type": "code",
   "execution_count": null,
   "id": "534fbe5f",
   "metadata": {},
   "outputs": [],
   "source": [
    "tmp['ip_time_nui_24'] = tmp.apply(lambda row:get_nunique_minute(row['ip_diff_list_30'],row['usr_ip_list_30'],60*24),axis=1)"
   ]
  },
  {
   "cell_type": "code",
   "execution_count": null,
   "id": "5265baad",
   "metadata": {},
   "outputs": [],
   "source": [
    "cols=[col for col in tmp.columns if 'ip_time_nui_'in col]"
   ]
  },
  {
   "cell_type": "code",
   "execution_count": null,
   "id": "092b6408",
   "metadata": {},
   "outputs": [],
   "source": [
    "cols.append('id_by_me')"
   ]
  },
  {
   "cell_type": "code",
   "execution_count": null,
   "id": "92b503b3",
   "metadata": {},
   "outputs": [],
   "source": [
    "data=pd.merge(data,tmp[cols],on='id_by_me',how='left')"
   ]
  },
  {
   "cell_type": "code",
   "execution_count": null,
   "id": "5f87e314",
   "metadata": {},
   "outputs": [],
   "source": []
  },
  {
   "cell_type": "markdown",
   "id": "56a45e4c",
   "metadata": {},
   "source": [
    "交叉特征"
   ]
  },
  {
   "cell_type": "code",
   "execution_count": null,
   "id": "9c6baa39",
   "metadata": {},
   "outputs": [],
   "source": [
    "cross_cols=[]"
   ]
  },
  {
   "cell_type": "code",
   "execution_count": null,
   "id": "69bce72e",
   "metadata": {},
   "outputs": [],
   "source": [
    "#department_city\n",
    "data['department_op_city'] = data['department'].astype(str)+data['op_city'].astype(str)\n",
    "cross_cols.append('department_op_city')"
   ]
  },
  {
   "cell_type": "code",
   "execution_count": null,
   "id": "0653d8c6",
   "metadata": {},
   "outputs": [],
   "source": [
    "#department_log_system_transform\n",
    "data['department_log_system_transform'] = data['department'].astype(str)+data['log_system_transform'].astype(str)\n",
    "#data['department_log_system_transform'] = label_encoder(data['department_log_system_transform'])\n",
    "cross_cols.append('department_log_system_transform')"
   ]
  },
  {
   "cell_type": "code",
   "execution_count": null,
   "id": "cd6c5546",
   "metadata": {},
   "outputs": [],
   "source": [
    "#browser_version_op_city\n",
    "data['browser_version_op_city'] = data['browser_version'].astype(str)+data['op_city'].astype(str)\n",
    "#data['browser_version_op_city'] = label_encoder(data['browser_version_op_city'])\n",
    "cross_cols.append('browser_version_op_city')"
   ]
  },
  {
   "cell_type": "code",
   "execution_count": null,
   "id": "9b6f8f8e",
   "metadata": {},
   "outputs": [],
   "source": [
    "#browser_op_city\n",
    "data['browser_op_city'] = data['browser'].astype(str)+data['op_city'].astype(str)\n",
    "#data['browser_op_city'] = label_encoder(data['browser_op_city'])\n",
    "cross_cols.append('browser_op_city')"
   ]
  },
  {
   "cell_type": "code",
   "execution_count": null,
   "id": "f4edc7c8",
   "metadata": {},
   "outputs": [],
   "source": [
    "#browser_log_system_transform\n",
    "data['browser_log_system_transform'] = data['browser'].astype(str)+data['log_system_transform'].astype(str)\n",
    "#data['browser_log_system_transform'] = label_encoder(data['browser_log_system_transform'])\n",
    "cross_cols.append('browser_log_system_transform')"
   ]
  },
  {
   "cell_type": "code",
   "execution_count": null,
   "id": "1b7905d8",
   "metadata": {},
   "outputs": [],
   "source": [
    "#os_type_op_city\n",
    "data['os_type_op_city'] = data['os_type'].astype(str)+data['op_city'].astype(str)\n",
    "#data['os_type_op_city'] = label_encoder(data['os_type_op_city'])\n",
    "cross_cols.append('os_type_op_city')"
   ]
  },
  {
   "cell_type": "code",
   "execution_count": null,
   "id": "8a1c61e6",
   "metadata": {},
   "outputs": [],
   "source": [
    "#os_type_log_system_transform\n",
    "data['os_type_log_system_transform'] = data['os_type'].astype(str)+data['log_system_transform'].astype(str)\n",
    "#data['os_type_log_system_transform'] = label_encoder(data['os_type_log_system_transform'])\n",
    "cross_cols.append('os_type_log_system_transform')"
   ]
  },
  {
   "cell_type": "code",
   "execution_count": null,
   "id": "354959da",
   "metadata": {},
   "outputs": [],
   "source": [
    "#os_version_op_city\n",
    "data['os_version_op_city'] = data['os_version'].astype(str)+data['op_city'].astype(str)\n",
    "#data['os_version_op_city'] = label_encoder(data['os_version_op_city'])\n",
    "cross_cols.append('os_version_op_city')"
   ]
  },
  {
   "cell_type": "code",
   "execution_count": null,
   "id": "7486e5f1",
   "metadata": {},
   "outputs": [],
   "source": [
    "#os_type_log_system_transform\n",
    "data['os_type_log_system_transform'] = data['os_type'].astype(str)+data['log_system_transform'].astype(str)\n",
    "#data['os_type_log_system_transform'] = label_encoder(data['os_type_log_system_transform'])\n",
    "cross_cols.append('os_type_log_system_transform')"
   ]
  },
  {
   "cell_type": "code",
   "execution_count": null,
   "id": "5a97259f",
   "metadata": {},
   "outputs": [],
   "source": [
    "#op_city_log_system_transform\n",
    "data['op_city_log_system_transform'] = data['op_city'].astype(str)+data['log_system_transform'].astype(str)\n",
    "#data['op_city_log_system_transform'] = label_encoder(data['op_city_log_system_transform'])\n",
    "cross_cols.append('op_city_log_system_transform')"
   ]
  },
  {
   "cell_type": "code",
   "execution_count": null,
   "id": "bf42b84a",
   "metadata": {},
   "outputs": [],
   "source": [
    "\n",
    "#departmen_url\n",
    "data['op_city_log_system_transform'] = data['department'].astype(str)+data['log_system_transform'].astype(str)\n",
    "#data['op_city_log_system_transform'] = label_encoder(data['op_city_log_system_transform'])\n",
    "cross_cols.append('op_city_log_system_transform')"
   ]
  },
  {
   "cell_type": "code",
   "execution_count": null,
   "id": "fbcdf724",
   "metadata": {},
   "outputs": [],
   "source": []
  },
  {
   "cell_type": "markdown",
   "id": "dab2dc47",
   "metadata": {},
   "source": [
    "用户在某hour使用某属性的count"
   ]
  },
  {
   "cell_type": "code",
   "execution_count": null,
   "id": "efb11c9b",
   "metadata": {},
   "outputs": [],
   "source": [
    "cols = ['ip_transform', 'device_num_transform',\n",
    "       'browser_version', 'browser', 'os_type', 'os_version',\n",
    "       'http_status_code', 'op_city', 'log_system_transform', 'url']"
   ]
  },
  {
   "cell_type": "code",
   "execution_count": null,
   "id": "29b47316",
   "metadata": {},
   "outputs": [],
   "source": [
    "for col in cols:\n",
    "    tmp = data[data['istest']==0].groupby(['user_name',col,'hour'])['is_risk'].count().reset_index()\n",
    "    tmp.columns=['user_name',col,'hour',col+'_hour_count']\n",
    "    data=pd.merge(data,tmp,on=['user_name',col,'hour'],how='left')"
   ]
  },
  {
   "cell_type": "markdown",
   "id": "b82318d8",
   "metadata": {},
   "source": [
    "工作日/节假日登陆某属性的count"
   ]
  },
  {
   "cell_type": "code",
   "execution_count": null,
   "id": "449bc142",
   "metadata": {},
   "outputs": [],
   "source": [
    "tmp = data[data['istest']==0].groupby(['user_name','is_not_work','hour'],as_index=False)['is_risk'].agg({'work_hour_count':'count'})\n",
    "data = pd.merge(data,tmp,how='left',on=['user_name','is_not_work','hour'])"
   ]
  },
  {
   "cell_type": "code",
   "execution_count": null,
   "id": "0e1437f0",
   "metadata": {
    "scrolled": true
   },
   "outputs": [],
   "source": [
    "date_fea = ['weekday','isholiday']"
   ]
  },
  {
   "cell_type": "code",
   "execution_count": null,
   "id": "6e32ee54",
   "metadata": {},
   "outputs": [],
   "source": [
    "for col in date_fea:\n",
    "    tmp = data[data['istest']==0].groupby(['user_name',col,'hour'],as_index=False)['is_risk'].agg({col+'_count':'count'})\n",
    "    data = pd.merge(data,tmp,how='left',on=['user_name',col,'hour'])"
   ]
  },
  {
   "cell_type": "code",
   "execution_count": null,
   "id": "0667180a",
   "metadata": {},
   "outputs": [],
   "source": []
  },
  {
   "cell_type": "code",
   "execution_count": null,
   "id": "01e4f39c",
   "metadata": {},
   "outputs": [],
   "source": []
  },
  {
   "cell_type": "code",
   "execution_count": null,
   "id": "bb50732a",
   "metadata": {
    "scrolled": true
   },
   "outputs": [],
   "source": [
    "numeric_features = data.select_dtypes(include=[np.number])\n",
    "categorical_features = data.select_dtypes(include=[np.object])"
   ]
  },
  {
   "cell_type": "code",
   "execution_count": null,
   "id": "b64400da",
   "metadata": {},
   "outputs": [],
   "source": [
    "import category_encoders as ce\n",
    "data[categorical_features.columns] = ce.OrdinalEncoder().fit_transform(data[categorical_features.columns])"
   ]
  },
  {
   "cell_type": "code",
   "execution_count": null,
   "id": "ca82cee5",
   "metadata": {},
   "outputs": [],
   "source": []
  },
  {
   "cell_type": "code",
   "execution_count": null,
   "id": "7e3ed120",
   "metadata": {},
   "outputs": [],
   "source": [
    "from mvtpy.mvtest import mvtest\n",
    "fea = [col for col in data.columns if col not in['id','index','id_by_me','op_datetime', 'op_day','day', 'op_month','is_risk', 'ts', 'ts1', 'ts2', 'diff_next']]\n",
    "model = mvtest()\n"
   ]
  },
  {
   "cell_type": "code",
   "execution_count": null,
   "id": "05c5fc19",
   "metadata": {},
   "outputs": [],
   "source": [
    "train_data = data[data['istest']==0]\n",
    "test = data[data['istest']==1]"
   ]
  },
  {
   "cell_type": "code",
   "execution_count": null,
   "id": "c9f9e45d",
   "metadata": {},
   "outputs": [],
   "source": [
    "list({'Tn': 0.22, 'p-value': [0.2, 0.25]}.values())[0]"
   ]
  },
  {
   "cell_type": "code",
   "execution_count": null,
   "id": "b4b033e4",
   "metadata": {},
   "outputs": [],
   "source": [
    "list_t = []\n",
    "list_name=[]"
   ]
  },
  {
   "cell_type": "code",
   "execution_count": null,
   "id": "3fc62f5a",
   "metadata": {
    "scrolled": true
   },
   "outputs": [],
   "source": [
    "for col in tqdm(fea):\n",
    "    t = list(model.test(train_data[col],train_data['is_risk']).values())[0]\n",
    "    list_t.append(t)\n",
    "    list_name.append(col)"
   ]
  },
  {
   "cell_type": "code",
   "execution_count": null,
   "id": "049252d5",
   "metadata": {},
   "outputs": [],
   "source": [
    "tn_value = pd.DataFrame({'fea':list_name,'Tn':list_t})"
   ]
  },
  {
   "cell_type": "code",
   "execution_count": null,
   "id": "ddb7bc5b",
   "metadata": {},
   "outputs": [],
   "source": [
    "tn_value.to_csv('D:\\\\数据挖掘竞赛\\\\ccf\\\\tn_value.csv',index=False)"
   ]
  },
  {
   "cell_type": "code",
   "execution_count": null,
   "id": "09355882",
   "metadata": {},
   "outputs": [],
   "source": [
    "tn_value = tn_value.reset_index(drop=True)"
   ]
  },
  {
   "cell_type": "code",
   "execution_count": null,
   "id": "636959b2",
   "metadata": {},
   "outputs": [],
   "source": []
  },
  {
   "cell_type": "code",
   "execution_count": 20,
   "id": "7dd0301b",
   "metadata": {},
   "outputs": [],
   "source": [
    "tn_value = pd.read_csv('D:\\\\数据挖掘竞赛\\\\ccf\\\\tn_value.csv')"
   ]
  },
  {
   "cell_type": "code",
   "execution_count": 21,
   "id": "0d97be37",
   "metadata": {},
   "outputs": [],
   "source": [
    "tn_value = tn_value.reset_index(drop=True)"
   ]
  },
  {
   "cell_type": "code",
   "execution_count": 22,
   "id": "cdfa9423",
   "metadata": {},
   "outputs": [],
   "source": [
    "tn_value=tn_value.sort_values(by='Tn').reset_index()[169:]"
   ]
  },
  {
   "cell_type": "code",
   "execution_count": 23,
   "id": "e4c6ff4c",
   "metadata": {},
   "outputs": [
    {
     "data": {
      "text/html": [
       "<div>\n",
       "<style scoped>\n",
       "    .dataframe tbody tr th:only-of-type {\n",
       "        vertical-align: middle;\n",
       "    }\n",
       "\n",
       "    .dataframe tbody tr th {\n",
       "        vertical-align: top;\n",
       "    }\n",
       "\n",
       "    .dataframe thead th {\n",
       "        text-align: right;\n",
       "    }\n",
       "</style>\n",
       "<table border=\"1\" class=\"dataframe\">\n",
       "  <thead>\n",
       "    <tr style=\"text-align: right;\">\n",
       "      <th></th>\n",
       "      <th>index</th>\n",
       "      <th>fea</th>\n",
       "      <th>Tn</th>\n",
       "    </tr>\n",
       "  </thead>\n",
       "  <tbody>\n",
       "    <tr>\n",
       "      <th>169</th>\n",
       "      <td>173</td>\n",
       "      <td>op_city_hour_count</td>\n",
       "      <td>158.68</td>\n",
       "    </tr>\n",
       "    <tr>\n",
       "      <th>170</th>\n",
       "      <td>119</td>\n",
       "      <td>is_not_work</td>\n",
       "      <td>169.33</td>\n",
       "    </tr>\n",
       "    <tr>\n",
       "      <th>171</th>\n",
       "      <td>152</td>\n",
       "      <td>log_system_transform_countls</td>\n",
       "      <td>173.45</td>\n",
       "    </tr>\n",
       "    <tr>\n",
       "      <th>172</th>\n",
       "      <td>167</td>\n",
       "      <td>device_num_transform_hour_count</td>\n",
       "      <td>181.50</td>\n",
       "    </tr>\n",
       "    <tr>\n",
       "      <th>173</th>\n",
       "      <td>176</td>\n",
       "      <td>work_hour_count</td>\n",
       "      <td>202.85</td>\n",
       "    </tr>\n",
       "    <tr>\n",
       "      <th>174</th>\n",
       "      <td>14</td>\n",
       "      <td>is_fail_code</td>\n",
       "      <td>398.84</td>\n",
       "    </tr>\n",
       "    <tr>\n",
       "      <th>175</th>\n",
       "      <td>8</td>\n",
       "      <td>http_status_code</td>\n",
       "      <td>402.35</td>\n",
       "    </tr>\n",
       "    <tr>\n",
       "      <th>176</th>\n",
       "      <td>166</td>\n",
       "      <td>ip_transform_hour_count</td>\n",
       "      <td>419.05</td>\n",
       "    </tr>\n",
       "    <tr>\n",
       "      <th>177</th>\n",
       "      <td>116</td>\n",
       "      <td>isnight</td>\n",
       "      <td>431.72</td>\n",
       "    </tr>\n",
       "    <tr>\n",
       "      <th>178</th>\n",
       "      <td>172</td>\n",
       "      <td>http_status_code_hour_count</td>\n",
       "      <td>606.73</td>\n",
       "    </tr>\n",
       "  </tbody>\n",
       "</table>\n",
       "</div>"
      ],
      "text/plain": [
       "     index                              fea      Tn\n",
       "169    173               op_city_hour_count  158.68\n",
       "170    119                      is_not_work  169.33\n",
       "171    152     log_system_transform_countls  173.45\n",
       "172    167  device_num_transform_hour_count  181.50\n",
       "173    176                  work_hour_count  202.85\n",
       "174     14                     is_fail_code  398.84\n",
       "175      8                 http_status_code  402.35\n",
       "176    166          ip_transform_hour_count  419.05\n",
       "177    116                          isnight  431.72\n",
       "178    172      http_status_code_hour_count  606.73"
      ]
     },
     "execution_count": 23,
     "metadata": {},
     "output_type": "execute_result"
    }
   ],
   "source": [
    "tn_value"
   ]
  },
  {
   "cell_type": "code",
   "execution_count": 39,
   "id": "3592d746",
   "metadata": {
    "scrolled": false
   },
   "outputs": [
    {
     "data": {
      "image/png": "[encoded data removed]",
      "text/plain": [
       "<Figure size 3600x1440 with 1 Axes>"
      ]
     },
     "metadata": {
      "needs_background": "light"
     },
     "output_type": "display_data"
    }
   ],
   "source": [
    "plt.rcParams['font.sans-serif'] = ['Times New Roman']\n",
    "plt.rcParams['font.size']=80\n",
    "plt.figure(figsize=(50,20))\n",
    "plt.barh(tn_value[:50]['fea'], tn_value[:50]['Tn'])\n",
    "plt.xlabel('Tn')\n",
    "myticks = np.arange(0,460,50)\n",
    "plt.yticks(fontproperties='Times New Roman',weight='bold',size = 80)#设置大小及加粗\n",
    "plt.xticks(myticks)\n",
    "plt.xticks(fontproperties='Times New Roman',weight='bold',size = 80)\n",
    "plt.xlim(150,450)\n",
    "plt.savefig(\"D:\\\\数据挖掘竞赛\\\\ccf\\\\image\\\\tn.pdf\",dpi=1000,bbox_inches='tight')"
   ]
  },
  {
   "cell_type": "code",
   "execution_count": 146,
   "id": "ff92a289",
   "metadata": {},
   "outputs": [
    {
     "data": {
      "text/html": [
       "<div>\n",
       "<style scoped>\n",
       "    .dataframe tbody tr th:only-of-type {\n",
       "        vertical-align: middle;\n",
       "    }\n",
       "\n",
       "    .dataframe tbody tr th {\n",
       "        vertical-align: top;\n",
       "    }\n",
       "\n",
       "    .dataframe thead th {\n",
       "        text-align: right;\n",
       "    }\n",
       "</style>\n",
       "<table border=\"1\" class=\"dataframe\">\n",
       "  <thead>\n",
       "    <tr style=\"text-align: right;\">\n",
       "      <th></th>\n",
       "      <th>fea</th>\n",
       "      <th>Tn</th>\n",
       "    </tr>\n",
       "  </thead>\n",
       "  <tbody>\n",
       "    <tr>\n",
       "      <th>0</th>\n",
       "      <td>http_status_code_hour_count</td>\n",
       "      <td>606.73</td>\n",
       "    </tr>\n",
       "    <tr>\n",
       "      <th>1</th>\n",
       "      <td>isnight</td>\n",
       "      <td>431.72</td>\n",
       "    </tr>\n",
       "    <tr>\n",
       "      <th>2</th>\n",
       "      <td>ip_transform_hour_count</td>\n",
       "      <td>419.05</td>\n",
       "    </tr>\n",
       "    <tr>\n",
       "      <th>3</th>\n",
       "      <td>http_status_code</td>\n",
       "      <td>402.35</td>\n",
       "    </tr>\n",
       "    <tr>\n",
       "      <th>4</th>\n",
       "      <td>is_fail_code</td>\n",
       "      <td>398.84</td>\n",
       "    </tr>\n",
       "    <tr>\n",
       "      <th>5</th>\n",
       "      <td>work_hour_count</td>\n",
       "      <td>202.85</td>\n",
       "    </tr>\n",
       "    <tr>\n",
       "      <th>6</th>\n",
       "      <td>device_num_transform_hour_count</td>\n",
       "      <td>181.50</td>\n",
       "    </tr>\n",
       "    <tr>\n",
       "      <th>7</th>\n",
       "      <td>log_system_transform_countls</td>\n",
       "      <td>173.45</td>\n",
       "    </tr>\n",
       "    <tr>\n",
       "      <th>8</th>\n",
       "      <td>is_not_work</td>\n",
       "      <td>169.33</td>\n",
       "    </tr>\n",
       "    <tr>\n",
       "      <th>9</th>\n",
       "      <td>op_city_hour_count</td>\n",
       "      <td>158.68</td>\n",
       "    </tr>\n",
       "    <tr>\n",
       "      <th>10</th>\n",
       "      <td>hour_cos</td>\n",
       "      <td>158.08</td>\n",
       "    </tr>\n",
       "    <tr>\n",
       "      <th>11</th>\n",
       "      <td>url_countls</td>\n",
       "      <td>150.78</td>\n",
       "    </tr>\n",
       "    <tr>\n",
       "      <th>12</th>\n",
       "      <td>isholiday_count</td>\n",
       "      <td>148.81</td>\n",
       "    </tr>\n",
       "    <tr>\n",
       "      <th>13</th>\n",
       "      <td>ip_transform_countls</td>\n",
       "      <td>146.03</td>\n",
       "    </tr>\n",
       "    <tr>\n",
       "      <th>14</th>\n",
       "      <td>ip_transform_diff1_min</td>\n",
       "      <td>144.61</td>\n",
       "    </tr>\n",
       "    <tr>\n",
       "      <th>15</th>\n",
       "      <td>ip_transform_diff_next_min</td>\n",
       "      <td>142.76</td>\n",
       "    </tr>\n",
       "    <tr>\n",
       "      <th>16</th>\n",
       "      <td>ip_transform_diff_next_std</td>\n",
       "      <td>141.64</td>\n",
       "    </tr>\n",
       "    <tr>\n",
       "      <th>17</th>\n",
       "      <td>browser_version_hour_count</td>\n",
       "      <td>134.04</td>\n",
       "    </tr>\n",
       "    <tr>\n",
       "      <th>18</th>\n",
       "      <td>browser_hour_count</td>\n",
       "      <td>131.19</td>\n",
       "    </tr>\n",
       "    <tr>\n",
       "      <th>19</th>\n",
       "      <td>os_version_hour_count</td>\n",
       "      <td>130.90</td>\n",
       "    </tr>\n",
       "    <tr>\n",
       "      <th>20</th>\n",
       "      <td>ip_transform_diff1_std</td>\n",
       "      <td>130.90</td>\n",
       "    </tr>\n",
       "    <tr>\n",
       "      <th>21</th>\n",
       "      <td>os_type_hour_count</td>\n",
       "      <td>129.40</td>\n",
       "    </tr>\n",
       "    <tr>\n",
       "      <th>22</th>\n",
       "      <td>ip_transform_diff_next_max</td>\n",
       "      <td>126.06</td>\n",
       "    </tr>\n",
       "    <tr>\n",
       "      <th>23</th>\n",
       "      <td>isnight_diff1_mean_u</td>\n",
       "      <td>123.16</td>\n",
       "    </tr>\n",
       "    <tr>\n",
       "      <th>24</th>\n",
       "      <td>weekday_count</td>\n",
       "      <td>122.86</td>\n",
       "    </tr>\n",
       "    <tr>\n",
       "      <th>25</th>\n",
       "      <td>ip_transform_diff1_max</td>\n",
       "      <td>122.74</td>\n",
       "    </tr>\n",
       "    <tr>\n",
       "      <th>26</th>\n",
       "      <td>ip_transform_diff1_mean</td>\n",
       "      <td>120.76</td>\n",
       "    </tr>\n",
       "    <tr>\n",
       "      <th>27</th>\n",
       "      <td>isnight_diff1_next_mean_u</td>\n",
       "      <td>110.68</td>\n",
       "    </tr>\n",
       "    <tr>\n",
       "      <th>28</th>\n",
       "      <td>browser_countls</td>\n",
       "      <td>96.34</td>\n",
       "    </tr>\n",
       "    <tr>\n",
       "      <th>29</th>\n",
       "      <td>browser_version_countls</td>\n",
       "      <td>95.86</td>\n",
       "    </tr>\n",
       "    <tr>\n",
       "      <th>30</th>\n",
       "      <td>os_version_countls</td>\n",
       "      <td>95.77</td>\n",
       "    </tr>\n",
       "    <tr>\n",
       "      <th>31</th>\n",
       "      <td>os_type_countls</td>\n",
       "      <td>95.28</td>\n",
       "    </tr>\n",
       "    <tr>\n",
       "      <th>32</th>\n",
       "      <td>http_status_code_countls</td>\n",
       "      <td>91.99</td>\n",
       "    </tr>\n",
       "    <tr>\n",
       "      <th>33</th>\n",
       "      <td>isweekend</td>\n",
       "      <td>91.50</td>\n",
       "    </tr>\n",
       "    <tr>\n",
       "      <th>34</th>\n",
       "      <td>device_num_transform_countls</td>\n",
       "      <td>85.94</td>\n",
       "    </tr>\n",
       "    <tr>\n",
       "      <th>35</th>\n",
       "      <td>url_hour_count</td>\n",
       "      <td>84.87</td>\n",
       "    </tr>\n",
       "    <tr>\n",
       "      <th>36</th>\n",
       "      <td>log_system_transform_hour_count</td>\n",
       "      <td>83.34</td>\n",
       "    </tr>\n",
       "    <tr>\n",
       "      <th>37</th>\n",
       "      <td>diff_last_2</td>\n",
       "      <td>71.26</td>\n",
       "    </tr>\n",
       "    <tr>\n",
       "      <th>38</th>\n",
       "      <td>url_diff1_max</td>\n",
       "      <td>70.69</td>\n",
       "    </tr>\n",
       "    <tr>\n",
       "      <th>39</th>\n",
       "      <td>op_city_countls</td>\n",
       "      <td>68.27</td>\n",
       "    </tr>\n",
       "    <tr>\n",
       "      <th>40</th>\n",
       "      <td>hour_diff1_next_mean_u</td>\n",
       "      <td>64.04</td>\n",
       "    </tr>\n",
       "    <tr>\n",
       "      <th>41</th>\n",
       "      <td>url_diff_next_max</td>\n",
       "      <td>62.29</td>\n",
       "    </tr>\n",
       "    <tr>\n",
       "      <th>42</th>\n",
       "      <td>diff_last_1</td>\n",
       "      <td>52.91</td>\n",
       "    </tr>\n",
       "    <tr>\n",
       "      <th>43</th>\n",
       "      <td>url_diff_next_std</td>\n",
       "      <td>52.16</td>\n",
       "    </tr>\n",
       "    <tr>\n",
       "      <th>44</th>\n",
       "      <td>url_diff_next_mean</td>\n",
       "      <td>52.14</td>\n",
       "    </tr>\n",
       "    <tr>\n",
       "      <th>45</th>\n",
       "      <td>url</td>\n",
       "      <td>50.08</td>\n",
       "    </tr>\n",
       "    <tr>\n",
       "      <th>46</th>\n",
       "      <td>isnight_diff1_next_std_u</td>\n",
       "      <td>50.04</td>\n",
       "    </tr>\n",
       "    <tr>\n",
       "      <th>47</th>\n",
       "      <td>is_not_work_diff1_next_mean_u</td>\n",
       "      <td>49.87</td>\n",
       "    </tr>\n",
       "    <tr>\n",
       "      <th>48</th>\n",
       "      <td>ip_transform_diff_next_mean</td>\n",
       "      <td>49.10</td>\n",
       "    </tr>\n",
       "    <tr>\n",
       "      <th>49</th>\n",
       "      <td>is_not_work_diff1_mean_u</td>\n",
       "      <td>48.49</td>\n",
       "    </tr>\n",
       "    <tr>\n",
       "      <th>50</th>\n",
       "      <td>hour</td>\n",
       "      <td>48.05</td>\n",
       "    </tr>\n",
       "    <tr>\n",
       "      <th>51</th>\n",
       "      <td>url_diff1_std</td>\n",
       "      <td>47.99</td>\n",
       "    </tr>\n",
       "    <tr>\n",
       "      <th>52</th>\n",
       "      <td>url_diff1_mean</td>\n",
       "      <td>47.83</td>\n",
       "    </tr>\n",
       "    <tr>\n",
       "      <th>53</th>\n",
       "      <td>log_system_transform_diff1_std</td>\n",
       "      <td>47.67</td>\n",
       "    </tr>\n",
       "    <tr>\n",
       "      <th>54</th>\n",
       "      <td>log_system_transform_diff_next_std</td>\n",
       "      <td>47.53</td>\n",
       "    </tr>\n",
       "    <tr>\n",
       "      <th>55</th>\n",
       "      <td>log_system_transform_diff1_mean</td>\n",
       "      <td>47.52</td>\n",
       "    </tr>\n",
       "    <tr>\n",
       "      <th>56</th>\n",
       "      <td>log_system_transform_diff_next_mean</td>\n",
       "      <td>47.51</td>\n",
       "    </tr>\n",
       "    <tr>\n",
       "      <th>57</th>\n",
       "      <td>log_system_transform_diff1_min</td>\n",
       "      <td>47.02</td>\n",
       "    </tr>\n",
       "    <tr>\n",
       "      <th>58</th>\n",
       "      <td>weekday</td>\n",
       "      <td>42.81</td>\n",
       "    </tr>\n",
       "    <tr>\n",
       "      <th>59</th>\n",
       "      <td>url_diff1_min</td>\n",
       "      <td>42.44</td>\n",
       "    </tr>\n",
       "    <tr>\n",
       "      <th>60</th>\n",
       "      <td>hour_sin</td>\n",
       "      <td>40.59</td>\n",
       "    </tr>\n",
       "    <tr>\n",
       "      <th>61</th>\n",
       "      <td>is_not_work_diff1_next_std_u</td>\n",
       "      <td>40.09</td>\n",
       "    </tr>\n",
       "    <tr>\n",
       "      <th>62</th>\n",
       "      <td>log_system_transform_diff_next_max</td>\n",
       "      <td>38.77</td>\n",
       "    </tr>\n",
       "    <tr>\n",
       "      <th>63</th>\n",
       "      <td>log_system_transform</td>\n",
       "      <td>38.31</td>\n",
       "    </tr>\n",
       "    <tr>\n",
       "      <th>64</th>\n",
       "      <td>department_log_system_transform</td>\n",
       "      <td>30.76</td>\n",
       "    </tr>\n",
       "    <tr>\n",
       "      <th>65</th>\n",
       "      <td>op_city_log_system_transform</td>\n",
       "      <td>30.76</td>\n",
       "    </tr>\n",
       "    <tr>\n",
       "      <th>66</th>\n",
       "      <td>isnight_diff1_std_u</td>\n",
       "      <td>29.32</td>\n",
       "    </tr>\n",
       "    <tr>\n",
       "      <th>67</th>\n",
       "      <td>log_system_transform_diff1_max</td>\n",
       "      <td>28.40</td>\n",
       "    </tr>\n",
       "    <tr>\n",
       "      <th>68</th>\n",
       "      <td>os_type_log_system_transform</td>\n",
       "      <td>27.56</td>\n",
       "    </tr>\n",
       "    <tr>\n",
       "      <th>69</th>\n",
       "      <td>weekday_diff1_next_mean_u</td>\n",
       "      <td>21.82</td>\n",
       "    </tr>\n",
       "    <tr>\n",
       "      <th>70</th>\n",
       "      <td>device_num_transform_diff_next_std</td>\n",
       "      <td>20.06</td>\n",
       "    </tr>\n",
       "    <tr>\n",
       "      <th>71</th>\n",
       "      <td>device_num_transform_diff_next_max</td>\n",
       "      <td>19.39</td>\n",
       "    </tr>\n",
       "    <tr>\n",
       "      <th>72</th>\n",
       "      <td>log_system_transform_diff_next_min</td>\n",
       "      <td>18.47</td>\n",
       "    </tr>\n",
       "    <tr>\n",
       "      <th>73</th>\n",
       "      <td>url_diff_next_min</td>\n",
       "      <td>18.47</td>\n",
       "    </tr>\n",
       "    <tr>\n",
       "      <th>74</th>\n",
       "      <td>op_city</td>\n",
       "      <td>17.72</td>\n",
       "    </tr>\n",
       "    <tr>\n",
       "      <th>75</th>\n",
       "      <td>is_login_url</td>\n",
       "      <td>17.48</td>\n",
       "    </tr>\n",
       "    <tr>\n",
       "      <th>76</th>\n",
       "      <td>device_num_transform_diff1_max</td>\n",
       "      <td>17.01</td>\n",
       "    </tr>\n",
       "    <tr>\n",
       "      <th>77</th>\n",
       "      <td>device_num_transform_diff_next_mean</td>\n",
       "      <td>16.90</td>\n",
       "    </tr>\n",
       "    <tr>\n",
       "      <th>78</th>\n",
       "      <td>hour_diff1_mean_u</td>\n",
       "      <td>16.83</td>\n",
       "    </tr>\n",
       "    <tr>\n",
       "      <th>79</th>\n",
       "      <td>is_not_work_diff1_std_u</td>\n",
       "      <td>16.27</td>\n",
       "    </tr>\n",
       "    <tr>\n",
       "      <th>80</th>\n",
       "      <td>hour_diff1_std_u</td>\n",
       "      <td>15.86</td>\n",
       "    </tr>\n",
       "    <tr>\n",
       "      <th>81</th>\n",
       "      <td>hour_diff1_next_std_u</td>\n",
       "      <td>15.62</td>\n",
       "    </tr>\n",
       "    <tr>\n",
       "      <th>82</th>\n",
       "      <td>device_num_transform_diff1_std</td>\n",
       "      <td>15.41</td>\n",
       "    </tr>\n",
       "    <tr>\n",
       "      <th>83</th>\n",
       "      <td>device_num_transform_diff1_mean</td>\n",
       "      <td>14.50</td>\n",
       "    </tr>\n",
       "    <tr>\n",
       "      <th>84</th>\n",
       "      <td>isholiday</td>\n",
       "      <td>13.24</td>\n",
       "    </tr>\n",
       "    <tr>\n",
       "      <th>85</th>\n",
       "      <td>is_code_5</td>\n",
       "      <td>12.04</td>\n",
       "    </tr>\n",
       "    <tr>\n",
       "      <th>86</th>\n",
       "      <td>ip_transform</td>\n",
       "      <td>11.13</td>\n",
       "    </tr>\n",
       "    <tr>\n",
       "      <th>87</th>\n",
       "      <td>device_num_transform</td>\n",
       "      <td>10.81</td>\n",
       "    </tr>\n",
       "    <tr>\n",
       "      <th>88</th>\n",
       "      <td>op_city_diff_next_max</td>\n",
       "      <td>10.66</td>\n",
       "    </tr>\n",
       "    <tr>\n",
       "      <th>89</th>\n",
       "      <td>is_forei/unknown</td>\n",
       "      <td>10.54</td>\n",
       "    </tr>\n",
       "    <tr>\n",
       "      <th>90</th>\n",
       "      <td>weekday_diff1_next_std_u</td>\n",
       "      <td>10.01</td>\n",
       "    </tr>\n",
       "    <tr>\n",
       "      <th>91</th>\n",
       "      <td>op_city_diff1_max</td>\n",
       "      <td>9.92</td>\n",
       "    </tr>\n",
       "    <tr>\n",
       "      <th>92</th>\n",
       "      <td>min_diff1_mean_u</td>\n",
       "      <td>9.27</td>\n",
       "    </tr>\n",
       "    <tr>\n",
       "      <th>93</th>\n",
       "      <td>os_type_op_city</td>\n",
       "      <td>8.87</td>\n",
       "    </tr>\n",
       "    <tr>\n",
       "      <th>94</th>\n",
       "      <td>op_city_diff_next_std</td>\n",
       "      <td>8.76</td>\n",
       "    </tr>\n",
       "    <tr>\n",
       "      <th>95</th>\n",
       "      <td>os_version_op_city</td>\n",
       "      <td>7.12</td>\n",
       "    </tr>\n",
       "    <tr>\n",
       "      <th>96</th>\n",
       "      <td>weekday_diff1_mean_u</td>\n",
       "      <td>6.61</td>\n",
       "    </tr>\n",
       "    <tr>\n",
       "      <th>97</th>\n",
       "      <td>browser_version_op_city</td>\n",
       "      <td>6.38</td>\n",
       "    </tr>\n",
       "    <tr>\n",
       "      <th>98</th>\n",
       "      <td>browser_op_city</td>\n",
       "      <td>6.28</td>\n",
       "    </tr>\n",
       "    <tr>\n",
       "      <th>99</th>\n",
       "      <td>op_city_diff1_mean</td>\n",
       "      <td>4.46</td>\n",
       "    </tr>\n",
       "    <tr>\n",
       "      <th>100</th>\n",
       "      <td>browser_log_system_transform</td>\n",
       "      <td>4.36</td>\n",
       "    </tr>\n",
       "    <tr>\n",
       "      <th>101</th>\n",
       "      <td>op_city_diff_next_mean</td>\n",
       "      <td>4.31</td>\n",
       "    </tr>\n",
       "    <tr>\n",
       "      <th>102</th>\n",
       "      <td>isholiday_diff1_next_mean_u</td>\n",
       "      <td>4.16</td>\n",
       "    </tr>\n",
       "    <tr>\n",
       "      <th>103</th>\n",
       "      <td>isholiday_diff1_mean_u</td>\n",
       "      <td>4.16</td>\n",
       "    </tr>\n",
       "    <tr>\n",
       "      <th>104</th>\n",
       "      <td>op_city_diff1_std</td>\n",
       "      <td>4.14</td>\n",
       "    </tr>\n",
       "    <tr>\n",
       "      <th>105</th>\n",
       "      <td>department</td>\n",
       "      <td>3.51</td>\n",
       "    </tr>\n",
       "    <tr>\n",
       "      <th>106</th>\n",
       "      <td>isholiday_diff1_std_u</td>\n",
       "      <td>2.73</td>\n",
       "    </tr>\n",
       "    <tr>\n",
       "      <th>107</th>\n",
       "      <td>isholiday_diff1_next_std_u</td>\n",
       "      <td>2.20</td>\n",
       "    </tr>\n",
       "    <tr>\n",
       "      <th>108</th>\n",
       "      <td>min_diff1_next_mean_u</td>\n",
       "      <td>2.11</td>\n",
       "    </tr>\n",
       "    <tr>\n",
       "      <th>109</th>\n",
       "      <td>min_diff1_next_std_u</td>\n",
       "      <td>2.09</td>\n",
       "    </tr>\n",
       "    <tr>\n",
       "      <th>110</th>\n",
       "      <td>min_diff1_std_u</td>\n",
       "      <td>1.78</td>\n",
       "    </tr>\n",
       "    <tr>\n",
       "      <th>111</th>\n",
       "      <td>department_op_city</td>\n",
       "      <td>1.76</td>\n",
       "    </tr>\n",
       "    <tr>\n",
       "      <th>112</th>\n",
       "      <td>department_diff_next_mean</td>\n",
       "      <td>1.37</td>\n",
       "    </tr>\n",
       "    <tr>\n",
       "      <th>113</th>\n",
       "      <td>department_diff1_mean</td>\n",
       "      <td>1.36</td>\n",
       "    </tr>\n",
       "    <tr>\n",
       "      <th>114</th>\n",
       "      <td>department_diff1_std</td>\n",
       "      <td>1.35</td>\n",
       "    </tr>\n",
       "    <tr>\n",
       "      <th>115</th>\n",
       "      <td>department_diff_next_std</td>\n",
       "      <td>1.34</td>\n",
       "    </tr>\n",
       "    <tr>\n",
       "      <th>116</th>\n",
       "      <td>ip_time_nui_24</td>\n",
       "      <td>1.33</td>\n",
       "    </tr>\n",
       "    <tr>\n",
       "      <th>117</th>\n",
       "      <td>user_name_diff_next_std</td>\n",
       "      <td>1.32</td>\n",
       "    </tr>\n",
       "    <tr>\n",
       "      <th>118</th>\n",
       "      <td>department_diff1_min</td>\n",
       "      <td>1.26</td>\n",
       "    </tr>\n",
       "    <tr>\n",
       "      <th>119</th>\n",
       "      <td>device_num_transform_diff1_min</td>\n",
       "      <td>1.24</td>\n",
       "    </tr>\n",
       "    <tr>\n",
       "      <th>120</th>\n",
       "      <td>user_name_diff_next_max</td>\n",
       "      <td>1.21</td>\n",
       "    </tr>\n",
       "    <tr>\n",
       "      <th>121</th>\n",
       "      <td>ip_time_nui_12</td>\n",
       "      <td>1.13</td>\n",
       "    </tr>\n",
       "    <tr>\n",
       "      <th>123</th>\n",
       "      <td>department_diff_next_max</td>\n",
       "      <td>1.05</td>\n",
       "    </tr>\n",
       "    <tr>\n",
       "      <th>122</th>\n",
       "      <td>department_diff1_max</td>\n",
       "      <td>1.05</td>\n",
       "    </tr>\n",
       "    <tr>\n",
       "      <th>124</th>\n",
       "      <td>browser_diff1_min</td>\n",
       "      <td>0.79</td>\n",
       "    </tr>\n",
       "    <tr>\n",
       "      <th>125</th>\n",
       "      <td>user_name_diff1_max</td>\n",
       "      <td>0.70</td>\n",
       "    </tr>\n",
       "    <tr>\n",
       "      <th>126</th>\n",
       "      <td>user_name_diff_next_mean</td>\n",
       "      <td>0.68</td>\n",
       "    </tr>\n",
       "    <tr>\n",
       "      <th>127</th>\n",
       "      <td>device_num_transform_diff_next_min</td>\n",
       "      <td>0.57</td>\n",
       "    </tr>\n",
       "    <tr>\n",
       "      <th>128</th>\n",
       "      <td>is_adjust</td>\n",
       "      <td>0.49</td>\n",
       "    </tr>\n",
       "    <tr>\n",
       "      <th>129</th>\n",
       "      <td>os_version</td>\n",
       "      <td>0.44</td>\n",
       "    </tr>\n",
       "    <tr>\n",
       "      <th>130</th>\n",
       "      <td>os_version_diff1_min</td>\n",
       "      <td>0.44</td>\n",
       "    </tr>\n",
       "    <tr>\n",
       "      <th>131</th>\n",
       "      <td>browser_diff_next_std</td>\n",
       "      <td>0.42</td>\n",
       "    </tr>\n",
       "    <tr>\n",
       "      <th>132</th>\n",
       "      <td>user_name_diff1_std</td>\n",
       "      <td>0.42</td>\n",
       "    </tr>\n",
       "    <tr>\n",
       "      <th>135</th>\n",
       "      <td>os_version_diff1_std</td>\n",
       "      <td>0.41</td>\n",
       "    </tr>\n",
       "    <tr>\n",
       "      <th>134</th>\n",
       "      <td>os_version_diff1_mean</td>\n",
       "      <td>0.41</td>\n",
       "    </tr>\n",
       "    <tr>\n",
       "      <th>133</th>\n",
       "      <td>os_version_diff_next_mean</td>\n",
       "      <td>0.41</td>\n",
       "    </tr>\n",
       "    <tr>\n",
       "      <th>140</th>\n",
       "      <td>os_type_diff_next_mean</td>\n",
       "      <td>0.40</td>\n",
       "    </tr>\n",
       "    <tr>\n",
       "      <th>142</th>\n",
       "      <td>os_type_diff1_mean</td>\n",
       "      <td>0.40</td>\n",
       "    </tr>\n",
       "    <tr>\n",
       "      <th>141</th>\n",
       "      <td>os_type</td>\n",
       "      <td>0.40</td>\n",
       "    </tr>\n",
       "    <tr>\n",
       "      <th>136</th>\n",
       "      <td>os_type_diff1_min</td>\n",
       "      <td>0.40</td>\n",
       "    </tr>\n",
       "    <tr>\n",
       "      <th>139</th>\n",
       "      <td>os_type_diff_next_std</td>\n",
       "      <td>0.40</td>\n",
       "    </tr>\n",
       "    <tr>\n",
       "      <th>138</th>\n",
       "      <td>os_type_diff1_std</td>\n",
       "      <td>0.40</td>\n",
       "    </tr>\n",
       "    <tr>\n",
       "      <th>137</th>\n",
       "      <td>browser_version_diff1_min</td>\n",
       "      <td>0.40</td>\n",
       "    </tr>\n",
       "    <tr>\n",
       "      <th>143</th>\n",
       "      <td>browser_version_diff_next_mean</td>\n",
       "      <td>0.36</td>\n",
       "    </tr>\n",
       "    <tr>\n",
       "      <th>144</th>\n",
       "      <td>browser_diff_next_mean</td>\n",
       "      <td>0.36</td>\n",
       "    </tr>\n",
       "    <tr>\n",
       "      <th>145</th>\n",
       "      <td>browser_version_diff1_std</td>\n",
       "      <td>0.36</td>\n",
       "    </tr>\n",
       "    <tr>\n",
       "      <th>146</th>\n",
       "      <td>os_version_diff_next_std</td>\n",
       "      <td>0.34</td>\n",
       "    </tr>\n",
       "    <tr>\n",
       "      <th>147</th>\n",
       "      <td>browser_version_diff_next_std</td>\n",
       "      <td>0.33</td>\n",
       "    </tr>\n",
       "    <tr>\n",
       "      <th>148</th>\n",
       "      <td>browser_version_diff1_mean</td>\n",
       "      <td>0.32</td>\n",
       "    </tr>\n",
       "    <tr>\n",
       "      <th>149</th>\n",
       "      <td>browser_diff1_mean</td>\n",
       "      <td>0.31</td>\n",
       "    </tr>\n",
       "    <tr>\n",
       "      <th>150</th>\n",
       "      <td>user_name_diff1_mean</td>\n",
       "      <td>0.29</td>\n",
       "    </tr>\n",
       "    <tr>\n",
       "      <th>151</th>\n",
       "      <td>weekday_diff1_std_u</td>\n",
       "      <td>0.29</td>\n",
       "    </tr>\n",
       "    <tr>\n",
       "      <th>152</th>\n",
       "      <td>browser_version</td>\n",
       "      <td>0.26</td>\n",
       "    </tr>\n",
       "    <tr>\n",
       "      <th>153</th>\n",
       "      <td>min_sin</td>\n",
       "      <td>0.23</td>\n",
       "    </tr>\n",
       "    <tr>\n",
       "      <th>156</th>\n",
       "      <td>browser_version_diff_next_max</td>\n",
       "      <td>0.22</td>\n",
       "    </tr>\n",
       "    <tr>\n",
       "      <th>157</th>\n",
       "      <td>user_name</td>\n",
       "      <td>0.22</td>\n",
       "    </tr>\n",
       "    <tr>\n",
       "      <th>155</th>\n",
       "      <td>browser_diff1_std</td>\n",
       "      <td>0.22</td>\n",
       "    </tr>\n",
       "    <tr>\n",
       "      <th>154</th>\n",
       "      <td>browser_version_diff1_max</td>\n",
       "      <td>0.22</td>\n",
       "    </tr>\n",
       "    <tr>\n",
       "      <th>158</th>\n",
       "      <td>browser_diff1_max</td>\n",
       "      <td>0.20</td>\n",
       "    </tr>\n",
       "    <tr>\n",
       "      <th>159</th>\n",
       "      <td>browser_diff_next_max</td>\n",
       "      <td>0.20</td>\n",
       "    </tr>\n",
       "    <tr>\n",
       "      <th>160</th>\n",
       "      <td>op_city_diff1_min</td>\n",
       "      <td>0.18</td>\n",
       "    </tr>\n",
       "    <tr>\n",
       "      <th>161</th>\n",
       "      <td>browser</td>\n",
       "      <td>0.17</td>\n",
       "    </tr>\n",
       "    <tr>\n",
       "      <th>162</th>\n",
       "      <td>os_version_diff_next_max</td>\n",
       "      <td>0.12</td>\n",
       "    </tr>\n",
       "    <tr>\n",
       "      <th>163</th>\n",
       "      <td>os_version_diff1_max</td>\n",
       "      <td>0.12</td>\n",
       "    </tr>\n",
       "    <tr>\n",
       "      <th>164</th>\n",
       "      <td>ip_time_nui_6</td>\n",
       "      <td>0.09</td>\n",
       "    </tr>\n",
       "    <tr>\n",
       "      <th>165</th>\n",
       "      <td>min</td>\n",
       "      <td>0.08</td>\n",
       "    </tr>\n",
       "    <tr>\n",
       "      <th>167</th>\n",
       "      <td>min_cos</td>\n",
       "      <td>0.07</td>\n",
       "    </tr>\n",
       "    <tr>\n",
       "      <th>166</th>\n",
       "      <td>op_city_diff_next_min</td>\n",
       "      <td>0.07</td>\n",
       "    </tr>\n",
       "    <tr>\n",
       "      <th>168</th>\n",
       "      <td>user_name_diff1_min</td>\n",
       "      <td>0.06</td>\n",
       "    </tr>\n",
       "    <tr>\n",
       "      <th>169</th>\n",
       "      <td>department_diff_next_min</td>\n",
       "      <td>0.05</td>\n",
       "    </tr>\n",
       "    <tr>\n",
       "      <th>170</th>\n",
       "      <td>user_name_diff_next_min</td>\n",
       "      <td>0.05</td>\n",
       "    </tr>\n",
       "    <tr>\n",
       "      <th>171</th>\n",
       "      <td>os_type_diff1_max</td>\n",
       "      <td>0.04</td>\n",
       "    </tr>\n",
       "    <tr>\n",
       "      <th>172</th>\n",
       "      <td>os_type_diff_next_max</td>\n",
       "      <td>0.04</td>\n",
       "    </tr>\n",
       "    <tr>\n",
       "      <th>173</th>\n",
       "      <td>is_fail_usr</td>\n",
       "      <td>0.00</td>\n",
       "    </tr>\n",
       "    <tr>\n",
       "      <th>174</th>\n",
       "      <td>browser_diff_next_min</td>\n",
       "      <td>0.00</td>\n",
       "    </tr>\n",
       "    <tr>\n",
       "      <th>175</th>\n",
       "      <td>os_type_diff_next_min</td>\n",
       "      <td>0.00</td>\n",
       "    </tr>\n",
       "    <tr>\n",
       "      <th>176</th>\n",
       "      <td>os_version_diff_next_min</td>\n",
       "      <td>0.00</td>\n",
       "    </tr>\n",
       "    <tr>\n",
       "      <th>177</th>\n",
       "      <td>istest</td>\n",
       "      <td>0.00</td>\n",
       "    </tr>\n",
       "    <tr>\n",
       "      <th>178</th>\n",
       "      <td>browser_version_diff_next_min</td>\n",
       "      <td>0.00</td>\n",
       "    </tr>\n",
       "  </tbody>\n",
       "</table>\n",
       "</div>"
      ],
      "text/plain": [
       "                                     fea      Tn\n",
       "0            http_status_code_hour_count  606.73\n",
       "1                                isnight  431.72\n",
       "2                ip_transform_hour_count  419.05\n",
       "3                       http_status_code  402.35\n",
       "4                           is_fail_code  398.84\n",
       "5                        work_hour_count  202.85\n",
       "6        device_num_transform_hour_count  181.50\n",
       "7           log_system_transform_countls  173.45\n",
       "8                            is_not_work  169.33\n",
       "9                     op_city_hour_count  158.68\n",
       "10                              hour_cos  158.08\n",
       "11                           url_countls  150.78\n",
       "12                       isholiday_count  148.81\n",
       "13                  ip_transform_countls  146.03\n",
       "14                ip_transform_diff1_min  144.61\n",
       "15            ip_transform_diff_next_min  142.76\n",
       "16            ip_transform_diff_next_std  141.64\n",
       "17            browser_version_hour_count  134.04\n",
       "18                    browser_hour_count  131.19\n",
       "19                 os_version_hour_count  130.90\n",
       "20                ip_transform_diff1_std  130.90\n",
       "21                    os_type_hour_count  129.40\n",
       "22            ip_transform_diff_next_max  126.06\n",
       "23                  isnight_diff1_mean_u  123.16\n",
       "24                         weekday_count  122.86\n",
       "25                ip_transform_diff1_max  122.74\n",
       "26               ip_transform_diff1_mean  120.76\n",
       "27             isnight_diff1_next_mean_u  110.68\n",
       "28                       browser_countls   96.34\n",
       "29               browser_version_countls   95.86\n",
       "30                    os_version_countls   95.77\n",
       "31                       os_type_countls   95.28\n",
       "32              http_status_code_countls   91.99\n",
       "33                             isweekend   91.50\n",
       "34          device_num_transform_countls   85.94\n",
       "35                        url_hour_count   84.87\n",
       "36       log_system_transform_hour_count   83.34\n",
       "37                           diff_last_2   71.26\n",
       "38                         url_diff1_max   70.69\n",
       "39                       op_city_countls   68.27\n",
       "40                hour_diff1_next_mean_u   64.04\n",
       "41                     url_diff_next_max   62.29\n",
       "42                           diff_last_1   52.91\n",
       "43                     url_diff_next_std   52.16\n",
       "44                    url_diff_next_mean   52.14\n",
       "45                                   url   50.08\n",
       "46              isnight_diff1_next_std_u   50.04\n",
       "47         is_not_work_diff1_next_mean_u   49.87\n",
       "48           ip_transform_diff_next_mean   49.10\n",
       "49              is_not_work_diff1_mean_u   48.49\n",
       "50                                  hour   48.05\n",
       "51                         url_diff1_std   47.99\n",
       "52                        url_diff1_mean   47.83\n",
       "53        log_system_transform_diff1_std   47.67\n",
       "54    log_system_transform_diff_next_std   47.53\n",
       "55       log_system_transform_diff1_mean   47.52\n",
       "56   log_system_transform_diff_next_mean   47.51\n",
       "57        log_system_transform_diff1_min   47.02\n",
       "58                               weekday   42.81\n",
       "59                         url_diff1_min   42.44\n",
       "60                              hour_sin   40.59\n",
       "61          is_not_work_diff1_next_std_u   40.09\n",
       "62    log_system_transform_diff_next_max   38.77\n",
       "63                  log_system_transform   38.31\n",
       "64       department_log_system_transform   30.76\n",
       "65          op_city_log_system_transform   30.76\n",
       "66                   isnight_diff1_std_u   29.32\n",
       "67        log_system_transform_diff1_max   28.40\n",
       "68          os_type_log_system_transform   27.56\n",
       "69             weekday_diff1_next_mean_u   21.82\n",
       "70    device_num_transform_diff_next_std   20.06\n",
       "71    device_num_transform_diff_next_max   19.39\n",
       "72    log_system_transform_diff_next_min   18.47\n",
       "73                     url_diff_next_min   18.47\n",
       "74                               op_city   17.72\n",
       "75                          is_login_url   17.48\n",
       "76        device_num_transform_diff1_max   17.01\n",
       "77   device_num_transform_diff_next_mean   16.90\n",
       "78                     hour_diff1_mean_u   16.83\n",
       "79               is_not_work_diff1_std_u   16.27\n",
       "80                      hour_diff1_std_u   15.86\n",
       "81                 hour_diff1_next_std_u   15.62\n",
       "82        device_num_transform_diff1_std   15.41\n",
       "83       device_num_transform_diff1_mean   14.50\n",
       "84                             isholiday   13.24\n",
       "85                             is_code_5   12.04\n",
       "86                          ip_transform   11.13\n",
       "87                  device_num_transform   10.81\n",
       "88                 op_city_diff_next_max   10.66\n",
       "89                      is_forei/unknown   10.54\n",
       "90              weekday_diff1_next_std_u   10.01\n",
       "91                     op_city_diff1_max    9.92\n",
       "92                      min_diff1_mean_u    9.27\n",
       "93                       os_type_op_city    8.87\n",
       "94                 op_city_diff_next_std    8.76\n",
       "95                    os_version_op_city    7.12\n",
       "96                  weekday_diff1_mean_u    6.61\n",
       "97               browser_version_op_city    6.38\n",
       "98                       browser_op_city    6.28\n",
       "99                    op_city_diff1_mean    4.46\n",
       "100         browser_log_system_transform    4.36\n",
       "101               op_city_diff_next_mean    4.31\n",
       "102          isholiday_diff1_next_mean_u    4.16\n",
       "103               isholiday_diff1_mean_u    4.16\n",
       "104                    op_city_diff1_std    4.14\n",
       "105                           department    3.51\n",
       "106                isholiday_diff1_std_u    2.73\n",
       "107           isholiday_diff1_next_std_u    2.20\n",
       "108                min_diff1_next_mean_u    2.11\n",
       "109                 min_diff1_next_std_u    2.09\n",
       "110                      min_diff1_std_u    1.78\n",
       "111                   department_op_city    1.76\n",
       "112            department_diff_next_mean    1.37\n",
       "113                department_diff1_mean    1.36\n",
       "114                 department_diff1_std    1.35\n",
       "115             department_diff_next_std    1.34\n",
       "116                       ip_time_nui_24    1.33\n",
       "117              user_name_diff_next_std    1.32\n",
       "118                 department_diff1_min    1.26\n",
       "119       device_num_transform_diff1_min    1.24\n",
       "120              user_name_diff_next_max    1.21\n",
       "121                       ip_time_nui_12    1.13\n",
       "123             department_diff_next_max    1.05\n",
       "122                 department_diff1_max    1.05\n",
       "124                    browser_diff1_min    0.79\n",
       "125                  user_name_diff1_max    0.70\n",
       "126             user_name_diff_next_mean    0.68\n",
       "127   device_num_transform_diff_next_min    0.57\n",
       "128                            is_adjust    0.49\n",
       "129                           os_version    0.44\n",
       "130                 os_version_diff1_min    0.44\n",
       "131                browser_diff_next_std    0.42\n",
       "132                  user_name_diff1_std    0.42\n",
       "135                 os_version_diff1_std    0.41\n",
       "134                os_version_diff1_mean    0.41\n",
       "133            os_version_diff_next_mean    0.41\n",
       "140               os_type_diff_next_mean    0.40\n",
       "142                   os_type_diff1_mean    0.40\n",
       "141                              os_type    0.40\n",
       "136                    os_type_diff1_min    0.40\n",
       "139                os_type_diff_next_std    0.40\n",
       "138                    os_type_diff1_std    0.40\n",
       "137            browser_version_diff1_min    0.40\n",
       "143       browser_version_diff_next_mean    0.36\n",
       "144               browser_diff_next_mean    0.36\n",
       "145            browser_version_diff1_std    0.36\n",
       "146             os_version_diff_next_std    0.34\n",
       "147        browser_version_diff_next_std    0.33\n",
       "148           browser_version_diff1_mean    0.32\n",
       "149                   browser_diff1_mean    0.31\n",
       "150                 user_name_diff1_mean    0.29\n",
       "151                  weekday_diff1_std_u    0.29\n",
       "152                      browser_version    0.26\n",
       "153                              min_sin    0.23\n",
       "156        browser_version_diff_next_max    0.22\n",
       "157                            user_name    0.22\n",
       "155                    browser_diff1_std    0.22\n",
       "154            browser_version_diff1_max    0.22\n",
       "158                    browser_diff1_max    0.20\n",
       "159                browser_diff_next_max    0.20\n",
       "160                    op_city_diff1_min    0.18\n",
       "161                              browser    0.17\n",
       "162             os_version_diff_next_max    0.12\n",
       "163                 os_version_diff1_max    0.12\n",
       "164                        ip_time_nui_6    0.09\n",
       "165                                  min    0.08\n",
       "167                              min_cos    0.07\n",
       "166                op_city_diff_next_min    0.07\n",
       "168                  user_name_diff1_min    0.06\n",
       "169             department_diff_next_min    0.05\n",
       "170              user_name_diff_next_min    0.05\n",
       "171                    os_type_diff1_max    0.04\n",
       "172                os_type_diff_next_max    0.04\n",
       "173                          is_fail_usr    0.00\n",
       "174                browser_diff_next_min    0.00\n",
       "175                os_type_diff_next_min    0.00\n",
       "176             os_version_diff_next_min    0.00\n",
       "177                               istest    0.00\n",
       "178        browser_version_diff_next_min    0.00"
      ]
     },
     "execution_count": 146,
     "metadata": {},
     "output_type": "execute_result"
    }
   ],
   "source": [
    "tn_value"
   ]
  },
  {
   "cell_type": "code",
   "execution_count": 129,
   "id": "4ba093a7",
   "metadata": {},
   "outputs": [
    {
     "data": {
      "text/plain": [
       "148.81"
      ]
     },
     "execution_count": 129,
     "metadata": {},
     "output_type": "execute_result"
    }
   ],
   "source": [
    "t"
   ]
  },
  {
   "cell_type": "code",
   "execution_count": 83,
   "id": "a40a9fbc",
   "metadata": {},
   "outputs": [],
   "source": [
    "train_data = data[data['istest']==0]\n",
    "test = data[data['istest']==1]"
   ]
  },
  {
   "cell_type": "code",
   "execution_count": 84,
   "id": "014ec22c",
   "metadata": {},
   "outputs": [],
   "source": [
    "test = test.sort_values('id').reset_index(drop=True)"
   ]
  },
  {
   "cell_type": "code",
   "execution_count": 85,
   "id": "32ee57f2",
   "metadata": {},
   "outputs": [],
   "source": [
    "train = train_data[train_data['op_datetime']<'2022-04-01'].reset_index(drop=True)\n",
    "val = train_data[train_data['op_datetime']>='2022-04-01'].reset_index(drop=True)"
   ]
  },
  {
   "cell_type": "code",
   "execution_count": 86,
   "id": "80b81fba",
   "metadata": {},
   "outputs": [],
   "source": [
    "fea = [col for col in data.columns if col not in['id','index','id_by_me','op_datetime', 'op_day','day', 'op_month','is_risk', 'ts', 'ts1', 'ts2', 'diff_next']]"
   ]
  },
  {
   "cell_type": "code",
   "execution_count": 87,
   "id": "073c1988",
   "metadata": {},
   "outputs": [],
   "source": [
    "x_train = train[fea]\n",
    "y_train = train['is_risk']\n",
    "\n",
    "x_val = val[fea]\n",
    "y_val = val['is_risk']\n",
    "\n",
    "x_test = test[fea]\n",
    "y_test = test['is_risk']"
   ]
  },
  {
   "cell_type": "code",
   "execution_count": null,
   "id": "8e1947cc",
   "metadata": {},
   "outputs": [],
   "source": []
  },
  {
   "cell_type": "code",
   "execution_count": 88,
   "id": "1c046d18",
   "metadata": {},
   "outputs": [],
   "source": [
    "importance = 0\n",
    "pred_y = pd.DataFrame()\n",
    "var_pre = pd.DataFrame()\n",
    "\n",
    "lgb_score_list = []\n",
    "\n",
    "seeds=2022"
   ]
  },
  {
   "cell_type": "code",
   "execution_count": 89,
   "id": "9c25990f",
   "metadata": {},
   "outputs": [],
   "source": [
    "params_lgb  = {\n",
    "    'learning_rate': 0.05,\n",
    "    'boosting_type': 'gbdt',\n",
    "    'objective': 'binary',\n",
    "    'metric': 'auc',\n",
    "    'num_leaves': 64,\n",
    "    'verbose': -1,\n",
    "    'seed': 2022,\n",
    "    'n_jobs': -1,\n",
    "\n",
    "    'feature_fraction': 0.8,\n",
    "    'bagging_fraction': 0.9,\n",
    "    'bagging_freq': 4,\n",
    "    # 'min_child_weight': 10,\n",
    "    \"min_data_in_leaf\":20\n",
    "}\n"
   ]
  },
  {
   "cell_type": "code",
   "execution_count": 90,
   "id": "15054534",
   "metadata": {
    "scrolled": true
   },
   "outputs": [
    {
     "name": "stdout",
     "output_type": "stream",
     "text": [
      "************************************ 1 2022************************************\n",
      "Training until validation scores don't improve for 100 rounds\n",
      "Early stopping, best iteration is:\n",
      "[29]\tvalid_0's auc: 0.943887\n",
      "************************************ 2 2022************************************\n",
      "Training until validation scores don't improve for 100 rounds\n",
      "Early stopping, best iteration is:\n",
      "[253]\tvalid_0's auc: 0.944708\n",
      "************************************ 3 2022************************************\n",
      "Training until validation scores don't improve for 100 rounds\n",
      "Early stopping, best iteration is:\n",
      "[43]\tvalid_0's auc: 0.942759\n",
      "************************************ 4 2022************************************\n",
      "Training until validation scores don't improve for 100 rounds\n",
      "Early stopping, best iteration is:\n",
      "[63]\tvalid_0's auc: 0.9439\n",
      "************************************ 5 2022************************************\n",
      "Training until validation scores don't improve for 100 rounds\n",
      "Early stopping, best iteration is:\n",
      "[43]\tvalid_0's auc: 0.945226\n"
     ]
    }
   ],
   "source": [
    "#kf = StratifiedKFold(n_splits=5, shuffle=True, random_state=2022)\n",
    "kf = KFold(n_splits=5, shuffle=True, random_state=2022)\n",
    "for i, (train_idx, val_idx) in enumerate(kf.split(x_train, y_train)):\n",
    "    print('************************************ {} {}************************************'.format(str(i+1), str(seeds)))\n",
    "    trn_x, trn_y, val_x, val_y = x_train.iloc[train_idx],y_train.iloc[train_idx], x_train.iloc[val_idx], y_train.iloc[val_idx]\n",
    "    train_data = lgb.Dataset(trn_x,\n",
    "                        trn_y)\n",
    "    val_data = lgb.Dataset(val_x,\n",
    "                        val_y)\n",
    "    model = lgb.train(params_lgb, train_data, valid_sets=[val_data], num_boost_round=20000,\n",
    "                      callbacks=[lgb.early_stopping(100), lgb.log_evaluation(2000)])\n",
    "\n",
    "    pred_y['fold_%d_seed_%d' % (i, seeds)] = model.predict(x_test)\n",
    "    var_pre['fold_%d_seed_%d' % (i, seeds)] = model.predict(x_val)\n",
    "    \n",
    "    importance += model.feature_importance(importance_type='gain') / 5\n",
    "    lgb_score_list.append(auc(val_y, model.predict(val_x)))"
   ]
  },
  {
   "cell_type": "code",
   "execution_count": 91,
   "id": "9891b41a",
   "metadata": {},
   "outputs": [],
   "source": [
    "test['is_risk'] = pred_y.mean(axis=1).values"
   ]
  },
  {
   "cell_type": "code",
   "execution_count": 92,
   "id": "df1e11bc",
   "metadata": {},
   "outputs": [
    {
     "ename": "FileNotFoundError",
     "evalue": "[Errno 2] No such file or directory: '../raw_data/evaluation_public.csv'",
     "output_type": "error",
     "traceback": [
      "\u001b[1;31m---------------------------------------------------------------------------\u001b[0m",
      "\u001b[1;31mFileNotFoundError\u001b[0m                         Traceback (most recent call last)",
      "\u001b[1;32mC:\\Users\\ZHAOYI~1\\AppData\\Local\\Temp/ipykernel_54984/2337930219.py\u001b[0m in \u001b[0;36m<module>\u001b[1;34m\u001b[0m\n\u001b[1;32m----> 1\u001b[1;33m \u001b[0mdf_test\u001b[0m \u001b[1;33m=\u001b[0m \u001b[0mpd\u001b[0m\u001b[1;33m.\u001b[0m\u001b[0mread_csv\u001b[0m\u001b[1;33m(\u001b[0m\u001b[1;34m'../raw_data/evaluation_public.csv'\u001b[0m\u001b[1;33m)\u001b[0m\u001b[1;33m\u001b[0m\u001b[1;33m\u001b[0m\u001b[0m\n\u001b[0m\u001b[0;32m      2\u001b[0m \u001b[0mdf_test\u001b[0m \u001b[1;33m=\u001b[0m \u001b[0mpd\u001b[0m\u001b[1;33m.\u001b[0m\u001b[0mmerge\u001b[0m\u001b[1;33m(\u001b[0m\u001b[0mdf_test\u001b[0m\u001b[1;33m,\u001b[0m\u001b[0mtest\u001b[0m\u001b[1;33m[\u001b[0m\u001b[1;33m[\u001b[0m\u001b[1;34m'id'\u001b[0m\u001b[1;33m,\u001b[0m\u001b[1;34m'is_risk'\u001b[0m\u001b[1;33m]\u001b[0m\u001b[1;33m]\u001b[0m\u001b[1;33m,\u001b[0m\u001b[0mhow\u001b[0m\u001b[1;33m=\u001b[0m\u001b[1;34m'left'\u001b[0m\u001b[1;33m)\u001b[0m\u001b[1;33m\u001b[0m\u001b[1;33m\u001b[0m\u001b[0m\n\u001b[0;32m      3\u001b[0m \u001b[0mdf_test\u001b[0m\u001b[1;33m[\u001b[0m\u001b[1;34m'op_datetime'\u001b[0m\u001b[1;33m]\u001b[0m \u001b[1;33m=\u001b[0m \u001b[0mpd\u001b[0m\u001b[1;33m.\u001b[0m\u001b[0mto_datetime\u001b[0m\u001b[1;33m(\u001b[0m\u001b[0mdf_test\u001b[0m\u001b[1;33m[\u001b[0m\u001b[1;34m'op_datetime'\u001b[0m\u001b[1;33m]\u001b[0m\u001b[1;33m)\u001b[0m\u001b[1;33m\u001b[0m\u001b[1;33m\u001b[0m\u001b[0m\n\u001b[0;32m      4\u001b[0m \u001b[0mdf_test\u001b[0m \u001b[1;33m=\u001b[0m \u001b[0mdf_test\u001b[0m\u001b[1;33m.\u001b[0m\u001b[0msort_values\u001b[0m\u001b[1;33m(\u001b[0m\u001b[1;34m'op_datetime'\u001b[0m\u001b[1;33m)\u001b[0m\u001b[1;33m.\u001b[0m\u001b[0mreset_index\u001b[0m\u001b[1;33m(\u001b[0m\u001b[0mdrop\u001b[0m\u001b[1;33m=\u001b[0m\u001b[1;32mTrue\u001b[0m\u001b[1;33m)\u001b[0m\u001b[1;33m\u001b[0m\u001b[1;33m\u001b[0m\u001b[0m\n\u001b[0;32m      5\u001b[0m \u001b[0mdf_test\u001b[0m\u001b[1;33m[\u001b[0m\u001b[1;34m'hour'\u001b[0m\u001b[1;33m]\u001b[0m \u001b[1;33m=\u001b[0m \u001b[0mdf_test\u001b[0m\u001b[1;33m[\u001b[0m\u001b[1;34m'op_datetime'\u001b[0m\u001b[1;33m]\u001b[0m\u001b[1;33m.\u001b[0m\u001b[0mdt\u001b[0m\u001b[1;33m.\u001b[0m\u001b[0mhour\u001b[0m\u001b[1;33m\u001b[0m\u001b[1;33m\u001b[0m\u001b[0m\n",
      "\u001b[1;32mD:\\anacondahoul\\lib\\site-packages\\pandas\\util\\_decorators.py\u001b[0m in \u001b[0;36mwrapper\u001b[1;34m(*args, **kwargs)\u001b[0m\n\u001b[0;32m    309\u001b[0m                     \u001b[0mstacklevel\u001b[0m\u001b[1;33m=\u001b[0m\u001b[0mstacklevel\u001b[0m\u001b[1;33m,\u001b[0m\u001b[1;33m\u001b[0m\u001b[1;33m\u001b[0m\u001b[0m\n\u001b[0;32m    310\u001b[0m                 )\n\u001b[1;32m--> 311\u001b[1;33m             \u001b[1;32mreturn\u001b[0m \u001b[0mfunc\u001b[0m\u001b[1;33m(\u001b[0m\u001b[1;33m*\u001b[0m\u001b[0margs\u001b[0m\u001b[1;33m,\u001b[0m \u001b[1;33m**\u001b[0m\u001b[0mkwargs\u001b[0m\u001b[1;33m)\u001b[0m\u001b[1;33m\u001b[0m\u001b[1;33m\u001b[0m\u001b[0m\n\u001b[0m\u001b[0;32m    312\u001b[0m \u001b[1;33m\u001b[0m\u001b[0m\n\u001b[0;32m    313\u001b[0m         \u001b[1;32mreturn\u001b[0m \u001b[0mwrapper\u001b[0m\u001b[1;33m\u001b[0m\u001b[1;33m\u001b[0m\u001b[0m\n",
      "\u001b[1;32mD:\\anacondahoul\\lib\\site-packages\\pandas\\io\\parsers\\readers.py\u001b[0m in \u001b[0;36mread_csv\u001b[1;34m(filepath_or_buffer, sep, delimiter, header, names, index_col, usecols, squeeze, prefix, mangle_dupe_cols, dtype, engine, converters, true_values, false_values, skipinitialspace, skiprows, skipfooter, nrows, na_values, keep_default_na, na_filter, verbose, skip_blank_lines, parse_dates, infer_datetime_format, keep_date_col, date_parser, dayfirst, cache_dates, iterator, chunksize, compression, thousands, decimal, lineterminator, quotechar, quoting, doublequote, escapechar, comment, encoding, encoding_errors, dialect, error_bad_lines, warn_bad_lines, on_bad_lines, delim_whitespace, low_memory, memory_map, float_precision, storage_options)\u001b[0m\n\u001b[0;32m    584\u001b[0m     \u001b[0mkwds\u001b[0m\u001b[1;33m.\u001b[0m\u001b[0mupdate\u001b[0m\u001b[1;33m(\u001b[0m\u001b[0mkwds_defaults\u001b[0m\u001b[1;33m)\u001b[0m\u001b[1;33m\u001b[0m\u001b[1;33m\u001b[0m\u001b[0m\n\u001b[0;32m    585\u001b[0m \u001b[1;33m\u001b[0m\u001b[0m\n\u001b[1;32m--> 586\u001b[1;33m     \u001b[1;32mreturn\u001b[0m \u001b[0m_read\u001b[0m\u001b[1;33m(\u001b[0m\u001b[0mfilepath_or_buffer\u001b[0m\u001b[1;33m,\u001b[0m \u001b[0mkwds\u001b[0m\u001b[1;33m)\u001b[0m\u001b[1;33m\u001b[0m\u001b[1;33m\u001b[0m\u001b[0m\n\u001b[0m\u001b[0;32m    587\u001b[0m \u001b[1;33m\u001b[0m\u001b[0m\n\u001b[0;32m    588\u001b[0m \u001b[1;33m\u001b[0m\u001b[0m\n",
      "\u001b[1;32mD:\\anacondahoul\\lib\\site-packages\\pandas\\io\\parsers\\readers.py\u001b[0m in \u001b[0;36m_read\u001b[1;34m(filepath_or_buffer, kwds)\u001b[0m\n\u001b[0;32m    480\u001b[0m \u001b[1;33m\u001b[0m\u001b[0m\n\u001b[0;32m    481\u001b[0m     \u001b[1;31m# Create the parser.\u001b[0m\u001b[1;33m\u001b[0m\u001b[1;33m\u001b[0m\u001b[1;33m\u001b[0m\u001b[0m\n\u001b[1;32m--> 482\u001b[1;33m     \u001b[0mparser\u001b[0m \u001b[1;33m=\u001b[0m \u001b[0mTextFileReader\u001b[0m\u001b[1;33m(\u001b[0m\u001b[0mfilepath_or_buffer\u001b[0m\u001b[1;33m,\u001b[0m \u001b[1;33m**\u001b[0m\u001b[0mkwds\u001b[0m\u001b[1;33m)\u001b[0m\u001b[1;33m\u001b[0m\u001b[1;33m\u001b[0m\u001b[0m\n\u001b[0m\u001b[0;32m    483\u001b[0m \u001b[1;33m\u001b[0m\u001b[0m\n\u001b[0;32m    484\u001b[0m     \u001b[1;32mif\u001b[0m \u001b[0mchunksize\u001b[0m \u001b[1;32mor\u001b[0m \u001b[0miterator\u001b[0m\u001b[1;33m:\u001b[0m\u001b[1;33m\u001b[0m\u001b[1;33m\u001b[0m\u001b[0m\n",
      "\u001b[1;32mD:\\anacondahoul\\lib\\site-packages\\pandas\\io\\parsers\\readers.py\u001b[0m in \u001b[0;36m__init__\u001b[1;34m(self, f, engine, **kwds)\u001b[0m\n\u001b[0;32m    809\u001b[0m             \u001b[0mself\u001b[0m\u001b[1;33m.\u001b[0m\u001b[0moptions\u001b[0m\u001b[1;33m[\u001b[0m\u001b[1;34m\"has_index_names\"\u001b[0m\u001b[1;33m]\u001b[0m \u001b[1;33m=\u001b[0m \u001b[0mkwds\u001b[0m\u001b[1;33m[\u001b[0m\u001b[1;34m\"has_index_names\"\u001b[0m\u001b[1;33m]\u001b[0m\u001b[1;33m\u001b[0m\u001b[1;33m\u001b[0m\u001b[0m\n\u001b[0;32m    810\u001b[0m \u001b[1;33m\u001b[0m\u001b[0m\n\u001b[1;32m--> 811\u001b[1;33m         \u001b[0mself\u001b[0m\u001b[1;33m.\u001b[0m\u001b[0m_engine\u001b[0m \u001b[1;33m=\u001b[0m \u001b[0mself\u001b[0m\u001b[1;33m.\u001b[0m\u001b[0m_make_engine\u001b[0m\u001b[1;33m(\u001b[0m\u001b[0mself\u001b[0m\u001b[1;33m.\u001b[0m\u001b[0mengine\u001b[0m\u001b[1;33m)\u001b[0m\u001b[1;33m\u001b[0m\u001b[1;33m\u001b[0m\u001b[0m\n\u001b[0m\u001b[0;32m    812\u001b[0m \u001b[1;33m\u001b[0m\u001b[0m\n\u001b[0;32m    813\u001b[0m     \u001b[1;32mdef\u001b[0m \u001b[0mclose\u001b[0m\u001b[1;33m(\u001b[0m\u001b[0mself\u001b[0m\u001b[1;33m)\u001b[0m\u001b[1;33m:\u001b[0m\u001b[1;33m\u001b[0m\u001b[1;33m\u001b[0m\u001b[0m\n",
      "\u001b[1;32mD:\\anacondahoul\\lib\\site-packages\\pandas\\io\\parsers\\readers.py\u001b[0m in \u001b[0;36m_make_engine\u001b[1;34m(self, engine)\u001b[0m\n\u001b[0;32m   1038\u001b[0m             )\n\u001b[0;32m   1039\u001b[0m         \u001b[1;31m# error: Too many arguments for \"ParserBase\"\u001b[0m\u001b[1;33m\u001b[0m\u001b[1;33m\u001b[0m\u001b[1;33m\u001b[0m\u001b[0m\n\u001b[1;32m-> 1040\u001b[1;33m         \u001b[1;32mreturn\u001b[0m \u001b[0mmapping\u001b[0m\u001b[1;33m[\u001b[0m\u001b[0mengine\u001b[0m\u001b[1;33m]\u001b[0m\u001b[1;33m(\u001b[0m\u001b[0mself\u001b[0m\u001b[1;33m.\u001b[0m\u001b[0mf\u001b[0m\u001b[1;33m,\u001b[0m \u001b[1;33m**\u001b[0m\u001b[0mself\u001b[0m\u001b[1;33m.\u001b[0m\u001b[0moptions\u001b[0m\u001b[1;33m)\u001b[0m  \u001b[1;31m# type: ignore[call-arg]\u001b[0m\u001b[1;33m\u001b[0m\u001b[1;33m\u001b[0m\u001b[0m\n\u001b[0m\u001b[0;32m   1041\u001b[0m \u001b[1;33m\u001b[0m\u001b[0m\n\u001b[0;32m   1042\u001b[0m     \u001b[1;32mdef\u001b[0m \u001b[0m_failover_to_python\u001b[0m\u001b[1;33m(\u001b[0m\u001b[0mself\u001b[0m\u001b[1;33m)\u001b[0m\u001b[1;33m:\u001b[0m\u001b[1;33m\u001b[0m\u001b[1;33m\u001b[0m\u001b[0m\n",
      "\u001b[1;32mD:\\anacondahoul\\lib\\site-packages\\pandas\\io\\parsers\\c_parser_wrapper.py\u001b[0m in \u001b[0;36m__init__\u001b[1;34m(self, src, **kwds)\u001b[0m\n\u001b[0;32m     49\u001b[0m \u001b[1;33m\u001b[0m\u001b[0m\n\u001b[0;32m     50\u001b[0m         \u001b[1;31m# open handles\u001b[0m\u001b[1;33m\u001b[0m\u001b[1;33m\u001b[0m\u001b[1;33m\u001b[0m\u001b[0m\n\u001b[1;32m---> 51\u001b[1;33m         \u001b[0mself\u001b[0m\u001b[1;33m.\u001b[0m\u001b[0m_open_handles\u001b[0m\u001b[1;33m(\u001b[0m\u001b[0msrc\u001b[0m\u001b[1;33m,\u001b[0m \u001b[0mkwds\u001b[0m\u001b[1;33m)\u001b[0m\u001b[1;33m\u001b[0m\u001b[1;33m\u001b[0m\u001b[0m\n\u001b[0m\u001b[0;32m     52\u001b[0m         \u001b[1;32massert\u001b[0m \u001b[0mself\u001b[0m\u001b[1;33m.\u001b[0m\u001b[0mhandles\u001b[0m \u001b[1;32mis\u001b[0m \u001b[1;32mnot\u001b[0m \u001b[1;32mNone\u001b[0m\u001b[1;33m\u001b[0m\u001b[1;33m\u001b[0m\u001b[0m\n\u001b[0;32m     53\u001b[0m \u001b[1;33m\u001b[0m\u001b[0m\n",
      "\u001b[1;32mD:\\anacondahoul\\lib\\site-packages\\pandas\\io\\parsers\\base_parser.py\u001b[0m in \u001b[0;36m_open_handles\u001b[1;34m(self, src, kwds)\u001b[0m\n\u001b[0;32m    227\u001b[0m             \u001b[0mmemory_map\u001b[0m\u001b[1;33m=\u001b[0m\u001b[0mkwds\u001b[0m\u001b[1;33m.\u001b[0m\u001b[0mget\u001b[0m\u001b[1;33m(\u001b[0m\u001b[1;34m\"memory_map\"\u001b[0m\u001b[1;33m,\u001b[0m \u001b[1;32mFalse\u001b[0m\u001b[1;33m)\u001b[0m\u001b[1;33m,\u001b[0m\u001b[1;33m\u001b[0m\u001b[1;33m\u001b[0m\u001b[0m\n\u001b[0;32m    228\u001b[0m             \u001b[0mstorage_options\u001b[0m\u001b[1;33m=\u001b[0m\u001b[0mkwds\u001b[0m\u001b[1;33m.\u001b[0m\u001b[0mget\u001b[0m\u001b[1;33m(\u001b[0m\u001b[1;34m\"storage_options\"\u001b[0m\u001b[1;33m,\u001b[0m \u001b[1;32mNone\u001b[0m\u001b[1;33m)\u001b[0m\u001b[1;33m,\u001b[0m\u001b[1;33m\u001b[0m\u001b[1;33m\u001b[0m\u001b[0m\n\u001b[1;32m--> 229\u001b[1;33m             \u001b[0merrors\u001b[0m\u001b[1;33m=\u001b[0m\u001b[0mkwds\u001b[0m\u001b[1;33m.\u001b[0m\u001b[0mget\u001b[0m\u001b[1;33m(\u001b[0m\u001b[1;34m\"encoding_errors\"\u001b[0m\u001b[1;33m,\u001b[0m \u001b[1;34m\"strict\"\u001b[0m\u001b[1;33m)\u001b[0m\u001b[1;33m,\u001b[0m\u001b[1;33m\u001b[0m\u001b[1;33m\u001b[0m\u001b[0m\n\u001b[0m\u001b[0;32m    230\u001b[0m         )\n\u001b[0;32m    231\u001b[0m \u001b[1;33m\u001b[0m\u001b[0m\n",
      "\u001b[1;32mD:\\anacondahoul\\lib\\site-packages\\pandas\\io\\common.py\u001b[0m in \u001b[0;36mget_handle\u001b[1;34m(path_or_buf, mode, encoding, compression, memory_map, is_text, errors, storage_options)\u001b[0m\n\u001b[0;32m    705\u001b[0m                 \u001b[0mencoding\u001b[0m\u001b[1;33m=\u001b[0m\u001b[0mioargs\u001b[0m\u001b[1;33m.\u001b[0m\u001b[0mencoding\u001b[0m\u001b[1;33m,\u001b[0m\u001b[1;33m\u001b[0m\u001b[1;33m\u001b[0m\u001b[0m\n\u001b[0;32m    706\u001b[0m                 \u001b[0merrors\u001b[0m\u001b[1;33m=\u001b[0m\u001b[0merrors\u001b[0m\u001b[1;33m,\u001b[0m\u001b[1;33m\u001b[0m\u001b[1;33m\u001b[0m\u001b[0m\n\u001b[1;32m--> 707\u001b[1;33m                 \u001b[0mnewline\u001b[0m\u001b[1;33m=\u001b[0m\u001b[1;34m\"\"\u001b[0m\u001b[1;33m,\u001b[0m\u001b[1;33m\u001b[0m\u001b[1;33m\u001b[0m\u001b[0m\n\u001b[0m\u001b[0;32m    708\u001b[0m             )\n\u001b[0;32m    709\u001b[0m         \u001b[1;32melse\u001b[0m\u001b[1;33m:\u001b[0m\u001b[1;33m\u001b[0m\u001b[1;33m\u001b[0m\u001b[0m\n",
      "\u001b[1;31mFileNotFoundError\u001b[0m: [Errno 2] No such file or directory: '../raw_data/evaluation_public.csv'"
     ]
    }
   ],
   "source": [
    "df_test = pd.read_csv('../raw_data/evaluation_public.csv')\n",
    "df_test = pd.merge(df_test,test[['id','is_risk']],how='left')\n",
    "df_test['op_datetime'] = pd.to_datetime(df_test['op_datetime'])\n",
    "df_test = df_test.sort_values('op_datetime').reset_index(drop=True)\n",
    "df_test['hour'] = df_test['op_datetime'].dt.hour\n",
    "df_test.loc[df_test['hour']<6,'is_risk'] = 1\n",
    "df_test.loc[df_test['hour']>20,'is_risk'] = 1"
   ]
  },
  {
   "cell_type": "code",
   "execution_count": null,
   "id": "d6760434",
   "metadata": {},
   "outputs": [],
   "source": [
    "df_test[['id','is_risk']].to_csv(\"../prediction_result/result.csv\", index=False)"
   ]
  },
  {
   "cell_type": "code",
   "execution_count": null,
   "id": "026d1f32",
   "metadata": {},
   "outputs": [],
   "source": []
  },
  {
   "cell_type": "code",
   "execution_count": null,
   "id": "768ae146",
   "metadata": {},
   "outputs": [],
   "source": []
  },
  {
   "cell_type": "code",
   "execution_count": null,
   "id": "8bf7b9dc",
   "metadata": {},
   "outputs": [],
   "source": []
  },
  {
   "cell_type": "code",
   "execution_count": null,
   "id": "83679d58",
   "metadata": {},
   "outputs": [],
   "source": []
  },
  {
   "cell_type": "code",
   "execution_count": null,
   "id": "97150400",
   "metadata": {},
   "outputs": [],
   "source": [
    "\n"
   ]
  }
 ],
 "metadata": {
  "kernelspec": {
   "display_name": "Python 3 (ipykernel)",
   "language": "python",
   "name": "python3"
  },
  "language_info": {
   "codemirror_mode": {
    "name": "ipython",
    "version": 3
   },
   "file_extension": ".py",
   "mimetype": "text/x-python",
   "name": "python",
   "nbconvert_exporter": "python",
   "pygments_lexer": "ipython3",
   "version": "3.7.3"
  }
 },
 "nbformat": 4,
 "nbformat_minor": 5
}
